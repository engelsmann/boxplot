{
 "cells": [
  {
   "cell_type": "markdown",
   "metadata": {},
   "source": [
    "Microsoft Learn Sandbox\n",
    "[FAQ](https://docs.microsoft.com/en-us/learn/support/faq?pivots=sandbox):\n",
    "> is a free environment that you can use \n",
    "to explore Azure through Microsoft Learn content.\n",
    "\n",
    "[Azure tutorial](https://docs.microsoft.com/en-us/azure/developer/python/tutorial-deploy-app-service-on-linux-01)\n",
    "on setting up a Python web app using VS Code."
   ]
  },
  {
   "cell_type": "markdown",
   "metadata": {},
   "source": [
    "1. Sign in to [portal.Azure.com](https://portal.Azure.com)\n",
    "1. Create resource:\n",
    "   1. Go to Marketplace\n",
    "   1. Search \"Wordpress\". Select. Create.\n",
    "   1. Give a *Name* to the app. Name will be lowest-level domain name on `.azurewebsites.net`.\n",
    "   1. Select:\n",
    "      - App service plan\n",
    "      - Resource group, and \n",
    "      - Region\n",
    "   1. Click Create\n",
    "1. Go to *App service* (resource)"
   ]
  }
 ],
 "metadata": {
  "kernelspec": {
   "display_name": "Python 3",
   "language": "python",
   "name": "python3"
  },
  "language_info": {
   "codemirror_mode": {
    "name": "ipython",
    "version": 3
   },
   "file_extension": ".py",
   "mimetype": "text/x-python",
   "name": "python",
   "nbconvert_exporter": "python",
   "pygments_lexer": "ipython3",
   "version": "3.8.5"
  }
 },
 "nbformat": 4,
 "nbformat_minor": 4
}
