{
 "cells": [
  {
   "cell_type": "markdown",
   "metadata": {},
   "source": [
    "# Boxplot on AssessmentScore data, overlay w dots\n",
    "I need a **plot** to summarize the assessment score data.\n",
    "Plots may be built with\n",
    "[matplotlib](https://realpython.com/python-matplotlib-guide/)\n",
    "elements in Python.\n",
    "[MatLibPlot documentation](https://matplotlib.org/).\n",
    "\n",
    "Deploying `matlibplot` classes **as if they were within a Django project**\n",
    "is made tricky demanding that the environment in which Django *apps* live\n",
    "has a namespace that is initiated using (only?) the Django project's `settings.py`.\n",
    "\n",
    "In this notebook, I experiment my way into \n",
    "[functional programming](https://en.wikipedia.org/wiki/Functional_programming)\n",
    "with the mires of scope, name spacing,\n",
    "[passing by value or by reference](https://www.python-course.eu/passing_arguments.php),\n",
    "mutable and immutable objects.\n",
    "Did I mention that plots will be among the objects, I will look into?\n",
    "\n",
    "But first simple example of\n",
    "\n",
    "\n",
    "1. [Set up](https://www.codingforentrepreneurs.com/blog/use-django-in-jupyter)\n",
    "   Jupyter for Django:\n",
    "   - I copied in the file `django_for_jupyter.py` in project root directory.\n",
    "     > My Django project root dir is: `.../Python/django/box_whiskers_demo`\n",
    "   - Same location, now issue \n",
    "     > `$ DJANGO_PROJECT=\"box_whiskers_demo\" jupyter notebook`\n",
    "   - This will start Jupyter lab **in browser** - and thus \n",
    "     access to **this Notebook** with Django project access.\n",
    "     Does logic seem backward? Sorry!\n",
    "1. Initiate Django in Jupyter notebook.\n",
    "1. **Retrieve data** from model `AssessmentScore`\n",
    "1. Preprocess (if necessary) in order to **prepare for 12-box-plot**.\n",
    "1. Plot and label\n",
    "1. **Overlay** with arbitraty, individual student data (**dot** plot)."
   ]
  },
  {
   "cell_type": "markdown",
   "metadata": {},
   "source": [
    "But first, take a moment to contemplate, what is going on in this example, \n",
    "where a variable `x` is passed to a function, used in that function\n",
    "and updated within the function.\n",
    "To different object types, an `int` and a `list` are passed.\n",
    "Note also the identity bewteen the `id` of the assigned values."
   ]
  },
  {
   "cell_type": "code",
   "execution_count": 42,
   "metadata": {},
   "outputs": [
    {
     "name": "stdout",
     "output_type": "stream",
     "text": [
      "Main scope: x= 8  id= 94296303214112\n",
      "Function scope x= 8  id= 94296303214112\n",
      "Function scope x= 42  id= 94296303215200\n",
      "\n",
      "Main scope: x= ['8', '1']  id= 140215180478080\n",
      "Function scope x= ['8', '1']  id= 140215180478080\n",
      "Function scope x= 42  id= 94296303215200\n"
     ]
    }
   ],
   "source": [
    "def ref_demo(x):\n",
    "    print(\"Function scope x=\",x,\" id=\",id(x))\n",
    "    x=42\n",
    "    print(\"Function scope x=\",x,\" id=\",id(x))\n",
    "x = 8\n",
    "print(\"Main scope: x=\",x,\" id=\",id(x))\n",
    "ref_demo(x)\n",
    "print()\n",
    "x = ['8','1']\n",
    "print(\"Main scope: x=\",x,\" id=\",id(x))\n",
    "ref_demo(x)"
   ]
  },
  {
   "cell_type": "markdown",
   "metadata": {},
   "source": [
    "## Initiate Django in Jupyter notebook.\n",
    "With these preparations in place, we can **initiate** the **Django environment**"
   ]
  },
  {
   "cell_type": "code",
   "execution_count": 2,
   "metadata": {},
   "outputs": [],
   "source": [
    "from django_for_jupyter import init_django\n",
    "init_django()"
   ]
  },
  {
   "cell_type": "markdown",
   "metadata": {},
   "source": [
    "Now, the Notebook simulates the environment that exists inside the Django app."
   ]
  },
  {
   "cell_type": "markdown",
   "metadata": {},
   "source": [
    "## \\* Retrieve data from model `AssessmentScore`"
   ]
  },
  {
   "cell_type": "markdown",
   "metadata": {},
   "source": [
    "We'll check out how many students are active and registered in the `1test` class.\n",
    "Then, we'll inspect the names of the first two (counted in the order they are registered to the Django model)."
   ]
  },
  {
   "cell_type": "code",
   "execution_count": 2,
   "metadata": {},
   "outputs": [
    {
     "data": {
      "text/plain": [
       "(23, ['Camilla Horserød', 'Camilla Vejlebyskov'])"
      ]
     },
     "execution_count": 2,
     "metadata": {},
     "output_type": "execute_result"
    }
   ],
   "source": [
    "from boxplot.models import Elev, Klasse\n",
    "query_set = Elev.objects.filter( klasse = Klasse.objects.get( navn = '1test' ))\n",
    "klasse_comprehension = [e.fulde_navn for e in query_set]\n",
    "len(klasse_comprehension), klasse_comprehension[:2]"
   ]
  },
  {
   "cell_type": "markdown",
   "metadata": {},
   "source": [
    "The `filter()` returns a QuerySet containing no, one or multiple records,\n",
    "while the `get()` method is assured to return **at most one** record in the QuerySet\n",
    "or throw an error.\n",
    "\n",
    "Thus, we may have **several students**, `Elev`,\n",
    "but they all belong to the same, i.e. **exactly one, class**.\n",
    "But we may only have students, provided a class with that name exists, **and** \n",
    "any students are registrered with that class.\n",
    "Otherwise, we will have no students, but furthermore, \n",
    "the model manager will \n",
    "[raise](https://realpython.com/python-exceptions/)\n",
    "the `DoesNotExist` error."
   ]
  },
  {
   "cell_type": "code",
   "execution_count": 3,
   "metadata": {},
   "outputs": [
    {
     "name": "stdout",
     "output_type": "stream",
     "text": [
      "Ups - \"non_existant\" - findes ikke i Django-databasen.\n"
     ]
    }
   ],
   "source": [
    "klassens_betegnelse = 'non_existant'\n",
    "from django.core.exceptions import ObjectDoesNotExist\n",
    "try: \n",
    "    query_set = Elev.objects.filter( klasse = Klasse.objects.get( navn = klassens_betegnelse ))\n",
    "except ObjectDoesNotExist as e:\n",
    "    print('Ups - \"'+klassens_betegnelse+'\" - findes ikke i Django-databasen.')"
   ]
  },
  {
   "cell_type": "markdown",
   "metadata": {},
   "source": [
    "Every **Django Model** has a `DoesNotExist` exception,\n",
    "subclassing the `ObjectDoesNotExist` class, see \n",
    "[this SO answer](https://stackoverflow.com/a/52455861/888033).\n",
    "Thus, the above construction **will catch** a `DoesNotExist` exception\n",
    "of an **existing** class being presented to a `Elev` model where that class is registered nowhere.\n",
    "It will **also catch** the demonstrated exception, where to class with that name is found."
   ]
  },
  {
   "cell_type": "markdown",
   "metadata": {},
   "source": [
    "Now, we shall select an assignment, `Aflevering`, followed by picking the `AssessmentScores` related to the QuerySet of `Elev` objects and to that `Aflevering`."
   ]
  },
  {
   "cell_type": "code",
   "execution_count": 4,
   "metadata": {},
   "outputs": [
    {
     "data": {
      "text/plain": [
       "['Model af CoVID19']"
      ]
     },
     "execution_count": 4,
     "metadata": {},
     "output_type": "execute_result"
    }
   ],
   "source": [
    "from boxplot.models import Elev, Klasse, AssesmentScore, Aflevering\n",
    "[a.titel for a in Aflevering.objects.all()]"
   ]
  },
  {
   "cell_type": "markdown",
   "metadata": {},
   "source": [
    "OK, we have exactly 1 assignment, the `Aflevering` QuerySet has 1 element.\n",
    "I think we can speak of the Django `AssementScore` model as a \n",
    "[reification](https://www.techopedia.com/definition/21674/reification)\n",
    "of the relation between the Django `Aflevering` model and the `Elev` model.\n",
    "\n",
    "![Reification UML](UML_assessmentScore_reification.png)"
   ]
  },
  {
   "cell_type": "code",
   "execution_count": 5,
   "metadata": {},
   "outputs": [
    {
     "data": {
      "text/plain": [
       "(23, boxplot.models.Elev)"
      ]
     },
     "execution_count": 5,
     "metadata": {},
     "output_type": "execute_result"
    }
   ],
   "source": [
    "roster = Elev.objects.filter( klasse = Klasse.objects.get(navn='1test'))\n",
    "len(roster), type([e for e in roster][4])"
   ]
  },
  {
   "cell_type": "code",
   "execution_count": 6,
   "metadata": {},
   "outputs": [],
   "source": [
    "submission = Aflevering.objects.filter( klasse = Klasse.objects.get(navn='1test'), titel__icontains='covid')"
   ]
  },
  {
   "cell_type": "markdown",
   "metadata": {},
   "source": [
    "When filter should match *any* of the items in a list (thanks to\n",
    "[this SO answer](https://stackoverflow.com/a/34303446/888033)):"
   ]
  },
  {
   "cell_type": "code",
   "execution_count": 7,
   "metadata": {},
   "outputs": [
    {
     "data": {
      "text/plain": [
       "(23, boxplot.models.AssesmentScore)"
      ]
     },
     "execution_count": 7,
     "metadata": {},
     "output_type": "execute_result"
    }
   ],
   "source": [
    "scores = AssesmentScore.objects.filter(elev__in=roster)\n",
    "len(scores), type([s for s in scores][2])"
   ]
  },
  {
   "cell_type": "code",
   "execution_count": 9,
   "metadata": {},
   "outputs": [],
   "source": [
    "import pandas as pd\n",
    "df = pd.DataFrame()"
   ]
  },
  {
   "cell_type": "markdown",
   "metadata": {},
   "source": [
    "Now I have to get the **last** six (hence the `-`) field names of the `AssessmentScore` model, stolen from\n",
    "[this SO answer](https://stackoverflow.com/a/11075898/888033)"
   ]
  },
  {
   "cell_type": "code",
   "execution_count": 10,
   "metadata": {},
   "outputs": [
    {
     "data": {
      "text/plain": [
       "['tankegang', 'fagsprog', 'cas', 'diagram', 'sammenhæng', 'konklusion']"
      ]
     },
     "execution_count": 10,
     "metadata": {},
     "output_type": "execute_result"
    }
   ],
   "source": [
    "[field.name for field in AssesmentScore._meta.fields][-6:]"
   ]
  },
  {
   "cell_type": "code",
   "execution_count": 11,
   "metadata": {},
   "outputs": [
    {
     "data": {
      "text/plain": [
       "['opg1',\n",
       " 'opg2',\n",
       " 'opg3',\n",
       " 'opg4',\n",
       " 'opg5',\n",
       " 'opg6',\n",
       " 'tankegang',\n",
       " 'fagsprog',\n",
       " 'cas',\n",
       " 'diagram',\n",
       " 'sammenhæng',\n",
       " 'konklusion']"
      ]
     },
     "execution_count": 11,
     "metadata": {},
     "output_type": "execute_result"
    }
   ],
   "source": [
    "col_name_list = [f'opg{i}' for i in range(1,7)]\n",
    "col_name_list += [field.name for field in AssesmentScore._meta.fields][-6:]\n",
    "col_name_list"
   ]
  },
  {
   "cell_type": "code",
   "execution_count": 13,
   "metadata": {
    "scrolled": true
   },
   "outputs": [
    {
     "data": {
      "text/plain": [
       "['Camilla Horserød',\n",
       " 'Camilla Vejlebyskov',\n",
       " 'Emma Oue',\n",
       " 'Helle Barup',\n",
       " 'Helle Byskov',\n",
       " 'Henrik Menstrup',\n",
       " 'Henrik Voer Hede',\n",
       " 'Ida Himmark Mark',\n",
       " 'Jens Febbersted',\n",
       " 'Jens Molshuse',\n",
       " 'Jørgen Hallenslev Gårde',\n",
       " 'Jørgen Normark',\n",
       " 'Jørgen Storå',\n",
       " 'Jørgen Trængstrup',\n",
       " 'Kirsten Dybdal',\n",
       " 'Kirsten Hjortegårde',\n",
       " 'Maria Skibsted Å',\n",
       " 'Mette Blushøj',\n",
       " 'Mette Tise Udflyttere',\n",
       " 'Peter Holmdrup',\n",
       " 'Peter Villendrup',\n",
       " 'William Magleholm',\n",
       " 'William Trævel Å']"
      ]
     },
     "execution_count": 13,
     "metadata": {},
     "output_type": "execute_result"
    }
   ],
   "source": [
    "[s.elev.fulde_navn for s in scores]"
   ]
  },
  {
   "cell_type": "code",
   "execution_count": 67,
   "metadata": {
    "scrolled": true
   },
   "outputs": [
    {
     "data": {
      "text/html": [
       "<div>\n",
       "<style scoped>\n",
       "    .dataframe tbody tr th:only-of-type {\n",
       "        vertical-align: middle;\n",
       "    }\n",
       "\n",
       "    .dataframe tbody tr th {\n",
       "        vertical-align: top;\n",
       "    }\n",
       "\n",
       "    .dataframe thead th {\n",
       "        text-align: right;\n",
       "    }\n",
       "</style>\n",
       "<table border=\"1\" class=\"dataframe\">\n",
       "  <thead>\n",
       "    <tr style=\"text-align: right;\">\n",
       "      <th></th>\n",
       "      <th>opg1</th>\n",
       "      <th>opg2</th>\n",
       "      <th>opg3</th>\n",
       "      <th>opg4</th>\n",
       "      <th>opg5</th>\n",
       "      <th>opg6</th>\n",
       "      <th>tankegang</th>\n",
       "      <th>fagsprog</th>\n",
       "      <th>cas</th>\n",
       "      <th>diagram</th>\n",
       "      <th>sammenhæng</th>\n",
       "      <th>konklusion</th>\n",
       "    </tr>\n",
       "  </thead>\n",
       "  <tbody>\n",
       "    <tr>\n",
       "      <th>Camilla Horserød</th>\n",
       "      <td>13</td>\n",
       "      <td>12</td>\n",
       "      <td>9</td>\n",
       "      <td>16</td>\n",
       "      <td>15</td>\n",
       "      <td>9</td>\n",
       "      <td>14</td>\n",
       "      <td>14</td>\n",
       "      <td>14</td>\n",
       "      <td>11</td>\n",
       "      <td>7</td>\n",
       "      <td>14</td>\n",
       "    </tr>\n",
       "    <tr>\n",
       "      <th>Camilla Vejlebyskov</th>\n",
       "      <td>15</td>\n",
       "      <td>13</td>\n",
       "      <td>14</td>\n",
       "      <td>15</td>\n",
       "      <td>15</td>\n",
       "      <td>19</td>\n",
       "      <td>15</td>\n",
       "      <td>17</td>\n",
       "      <td>17</td>\n",
       "      <td>15</td>\n",
       "      <td>10</td>\n",
       "      <td>17</td>\n",
       "    </tr>\n",
       "    <tr>\n",
       "      <th>Emma Oue</th>\n",
       "      <td>21</td>\n",
       "      <td>20</td>\n",
       "      <td>13</td>\n",
       "      <td>6</td>\n",
       "      <td>23</td>\n",
       "      <td>14</td>\n",
       "      <td>15</td>\n",
       "      <td>16</td>\n",
       "      <td>18</td>\n",
       "      <td>16</td>\n",
       "      <td>16</td>\n",
       "      <td>16</td>\n",
       "    </tr>\n",
       "    <tr>\n",
       "      <th>Helle Barup</th>\n",
       "      <td>16</td>\n",
       "      <td>14</td>\n",
       "      <td>10</td>\n",
       "      <td>13</td>\n",
       "      <td>14</td>\n",
       "      <td>11</td>\n",
       "      <td>13</td>\n",
       "      <td>13</td>\n",
       "      <td>16</td>\n",
       "      <td>16</td>\n",
       "      <td>8</td>\n",
       "      <td>12</td>\n",
       "    </tr>\n",
       "    <tr>\n",
       "      <th>Helle Byskov</th>\n",
       "      <td>20</td>\n",
       "      <td>19</td>\n",
       "      <td>16</td>\n",
       "      <td>18</td>\n",
       "      <td>17</td>\n",
       "      <td>12</td>\n",
       "      <td>15</td>\n",
       "      <td>17</td>\n",
       "      <td>19</td>\n",
       "      <td>18</td>\n",
       "      <td>15</td>\n",
       "      <td>18</td>\n",
       "    </tr>\n",
       "    <tr>\n",
       "      <th>Henrik Menstrup</th>\n",
       "      <td>18</td>\n",
       "      <td>6</td>\n",
       "      <td>6</td>\n",
       "      <td>11</td>\n",
       "      <td>10</td>\n",
       "      <td>6</td>\n",
       "      <td>9</td>\n",
       "      <td>9</td>\n",
       "      <td>11</td>\n",
       "      <td>11</td>\n",
       "      <td>7</td>\n",
       "      <td>10</td>\n",
       "    </tr>\n",
       "    <tr>\n",
       "      <th>Henrik Voer Hede</th>\n",
       "      <td>19</td>\n",
       "      <td>17</td>\n",
       "      <td>16</td>\n",
       "      <td>21</td>\n",
       "      <td>17</td>\n",
       "      <td>20</td>\n",
       "      <td>17</td>\n",
       "      <td>18</td>\n",
       "      <td>21</td>\n",
       "      <td>18</td>\n",
       "      <td>14</td>\n",
       "      <td>22</td>\n",
       "    </tr>\n",
       "    <tr>\n",
       "      <th>Ida Himmark Mark</th>\n",
       "      <td>24</td>\n",
       "      <td>11</td>\n",
       "      <td>16</td>\n",
       "      <td>19</td>\n",
       "      <td>10</td>\n",
       "      <td>8</td>\n",
       "      <td>12</td>\n",
       "      <td>12</td>\n",
       "      <td>20</td>\n",
       "      <td>16</td>\n",
       "      <td>14</td>\n",
       "      <td>14</td>\n",
       "    </tr>\n",
       "    <tr>\n",
       "      <th>Jens Febbersted</th>\n",
       "      <td>18</td>\n",
       "      <td>17</td>\n",
       "      <td>16</td>\n",
       "      <td>22</td>\n",
       "      <td>20</td>\n",
       "      <td>9</td>\n",
       "      <td>15</td>\n",
       "      <td>17</td>\n",
       "      <td>19</td>\n",
       "      <td>17</td>\n",
       "      <td>14</td>\n",
       "      <td>20</td>\n",
       "    </tr>\n",
       "    <tr>\n",
       "      <th>Jens Molshuse</th>\n",
       "      <td>19</td>\n",
       "      <td>18</td>\n",
       "      <td>15</td>\n",
       "      <td>22</td>\n",
       "      <td>23</td>\n",
       "      <td>18</td>\n",
       "      <td>20</td>\n",
       "      <td>18</td>\n",
       "      <td>23</td>\n",
       "      <td>20</td>\n",
       "      <td>15</td>\n",
       "      <td>19</td>\n",
       "    </tr>\n",
       "    <tr>\n",
       "      <th>Jørgen Hallenslev Gårde</th>\n",
       "      <td>12</td>\n",
       "      <td>12</td>\n",
       "      <td>12</td>\n",
       "      <td>12</td>\n",
       "      <td>9</td>\n",
       "      <td>10</td>\n",
       "      <td>11</td>\n",
       "      <td>12</td>\n",
       "      <td>10</td>\n",
       "      <td>13</td>\n",
       "      <td>8</td>\n",
       "      <td>13</td>\n",
       "    </tr>\n",
       "    <tr>\n",
       "      <th>Jørgen Normark</th>\n",
       "      <td>13</td>\n",
       "      <td>12</td>\n",
       "      <td>9</td>\n",
       "      <td>16</td>\n",
       "      <td>15</td>\n",
       "      <td>9</td>\n",
       "      <td>14</td>\n",
       "      <td>14</td>\n",
       "      <td>14</td>\n",
       "      <td>11</td>\n",
       "      <td>7</td>\n",
       "      <td>14</td>\n",
       "    </tr>\n",
       "    <tr>\n",
       "      <th>Jørgen Storå</th>\n",
       "      <td>15</td>\n",
       "      <td>13</td>\n",
       "      <td>14</td>\n",
       "      <td>15</td>\n",
       "      <td>15</td>\n",
       "      <td>19</td>\n",
       "      <td>15</td>\n",
       "      <td>17</td>\n",
       "      <td>17</td>\n",
       "      <td>15</td>\n",
       "      <td>10</td>\n",
       "      <td>17</td>\n",
       "    </tr>\n",
       "    <tr>\n",
       "      <th>Jørgen Trængstrup</th>\n",
       "      <td>21</td>\n",
       "      <td>20</td>\n",
       "      <td>13</td>\n",
       "      <td>6</td>\n",
       "      <td>23</td>\n",
       "      <td>14</td>\n",
       "      <td>15</td>\n",
       "      <td>16</td>\n",
       "      <td>18</td>\n",
       "      <td>16</td>\n",
       "      <td>16</td>\n",
       "      <td>16</td>\n",
       "    </tr>\n",
       "    <tr>\n",
       "      <th>Kirsten Dybdal</th>\n",
       "      <td>16</td>\n",
       "      <td>14</td>\n",
       "      <td>10</td>\n",
       "      <td>13</td>\n",
       "      <td>14</td>\n",
       "      <td>11</td>\n",
       "      <td>13</td>\n",
       "      <td>13</td>\n",
       "      <td>16</td>\n",
       "      <td>16</td>\n",
       "      <td>8</td>\n",
       "      <td>12</td>\n",
       "    </tr>\n",
       "    <tr>\n",
       "      <th>Kirsten Hjortegårde</th>\n",
       "      <td>20</td>\n",
       "      <td>19</td>\n",
       "      <td>16</td>\n",
       "      <td>18</td>\n",
       "      <td>17</td>\n",
       "      <td>12</td>\n",
       "      <td>15</td>\n",
       "      <td>17</td>\n",
       "      <td>19</td>\n",
       "      <td>18</td>\n",
       "      <td>15</td>\n",
       "      <td>18</td>\n",
       "    </tr>\n",
       "    <tr>\n",
       "      <th>Maria Skibsted Å</th>\n",
       "      <td>18</td>\n",
       "      <td>6</td>\n",
       "      <td>6</td>\n",
       "      <td>11</td>\n",
       "      <td>10</td>\n",
       "      <td>6</td>\n",
       "      <td>9</td>\n",
       "      <td>9</td>\n",
       "      <td>11</td>\n",
       "      <td>11</td>\n",
       "      <td>7</td>\n",
       "      <td>10</td>\n",
       "    </tr>\n",
       "    <tr>\n",
       "      <th>Mette Blushøj</th>\n",
       "      <td>19</td>\n",
       "      <td>17</td>\n",
       "      <td>16</td>\n",
       "      <td>21</td>\n",
       "      <td>17</td>\n",
       "      <td>20</td>\n",
       "      <td>17</td>\n",
       "      <td>18</td>\n",
       "      <td>21</td>\n",
       "      <td>18</td>\n",
       "      <td>14</td>\n",
       "      <td>22</td>\n",
       "    </tr>\n",
       "    <tr>\n",
       "      <th>Mette Tise Udflyttere</th>\n",
       "      <td>24</td>\n",
       "      <td>11</td>\n",
       "      <td>16</td>\n",
       "      <td>19</td>\n",
       "      <td>10</td>\n",
       "      <td>8</td>\n",
       "      <td>12</td>\n",
       "      <td>12</td>\n",
       "      <td>20</td>\n",
       "      <td>16</td>\n",
       "      <td>14</td>\n",
       "      <td>14</td>\n",
       "    </tr>\n",
       "    <tr>\n",
       "      <th>Peter Holmdrup</th>\n",
       "      <td>18</td>\n",
       "      <td>17</td>\n",
       "      <td>16</td>\n",
       "      <td>22</td>\n",
       "      <td>20</td>\n",
       "      <td>9</td>\n",
       "      <td>15</td>\n",
       "      <td>17</td>\n",
       "      <td>19</td>\n",
       "      <td>17</td>\n",
       "      <td>14</td>\n",
       "      <td>20</td>\n",
       "    </tr>\n",
       "    <tr>\n",
       "      <th>Peter Villendrup</th>\n",
       "      <td>19</td>\n",
       "      <td>18</td>\n",
       "      <td>15</td>\n",
       "      <td>22</td>\n",
       "      <td>23</td>\n",
       "      <td>18</td>\n",
       "      <td>20</td>\n",
       "      <td>18</td>\n",
       "      <td>23</td>\n",
       "      <td>20</td>\n",
       "      <td>15</td>\n",
       "      <td>19</td>\n",
       "    </tr>\n",
       "    <tr>\n",
       "      <th>William Magleholm</th>\n",
       "      <td>12</td>\n",
       "      <td>12</td>\n",
       "      <td>12</td>\n",
       "      <td>12</td>\n",
       "      <td>9</td>\n",
       "      <td>10</td>\n",
       "      <td>11</td>\n",
       "      <td>12</td>\n",
       "      <td>10</td>\n",
       "      <td>13</td>\n",
       "      <td>8</td>\n",
       "      <td>13</td>\n",
       "    </tr>\n",
       "    <tr>\n",
       "      <th>William Trævel Å</th>\n",
       "      <td>13</td>\n",
       "      <td>12</td>\n",
       "      <td>9</td>\n",
       "      <td>16</td>\n",
       "      <td>15</td>\n",
       "      <td>9</td>\n",
       "      <td>14</td>\n",
       "      <td>14</td>\n",
       "      <td>14</td>\n",
       "      <td>11</td>\n",
       "      <td>7</td>\n",
       "      <td>14</td>\n",
       "    </tr>\n",
       "  </tbody>\n",
       "</table>\n",
       "</div>"
      ],
      "text/plain": [
       "                         opg1  opg2  opg3  opg4  opg5  opg6  tankegang  \\\n",
       "Camilla Horserød           13    12     9    16    15     9         14   \n",
       "Camilla Vejlebyskov        15    13    14    15    15    19         15   \n",
       "Emma Oue                   21    20    13     6    23    14         15   \n",
       "Helle Barup                16    14    10    13    14    11         13   \n",
       "Helle Byskov               20    19    16    18    17    12         15   \n",
       "Henrik Menstrup            18     6     6    11    10     6          9   \n",
       "Henrik Voer Hede           19    17    16    21    17    20         17   \n",
       "Ida Himmark Mark           24    11    16    19    10     8         12   \n",
       "Jens Febbersted            18    17    16    22    20     9         15   \n",
       "Jens Molshuse              19    18    15    22    23    18         20   \n",
       "Jørgen Hallenslev Gårde    12    12    12    12     9    10         11   \n",
       "Jørgen Normark             13    12     9    16    15     9         14   \n",
       "Jørgen Storå               15    13    14    15    15    19         15   \n",
       "Jørgen Trængstrup          21    20    13     6    23    14         15   \n",
       "Kirsten Dybdal             16    14    10    13    14    11         13   \n",
       "Kirsten Hjortegårde        20    19    16    18    17    12         15   \n",
       "Maria Skibsted Å           18     6     6    11    10     6          9   \n",
       "Mette Blushøj              19    17    16    21    17    20         17   \n",
       "Mette Tise Udflyttere      24    11    16    19    10     8         12   \n",
       "Peter Holmdrup             18    17    16    22    20     9         15   \n",
       "Peter Villendrup           19    18    15    22    23    18         20   \n",
       "William Magleholm          12    12    12    12     9    10         11   \n",
       "William Trævel Å           13    12     9    16    15     9         14   \n",
       "\n",
       "                         fagsprog  cas  diagram  sammenhæng  konklusion  \n",
       "Camilla Horserød               14   14       11           7          14  \n",
       "Camilla Vejlebyskov            17   17       15          10          17  \n",
       "Emma Oue                       16   18       16          16          16  \n",
       "Helle Barup                    13   16       16           8          12  \n",
       "Helle Byskov                   17   19       18          15          18  \n",
       "Henrik Menstrup                 9   11       11           7          10  \n",
       "Henrik Voer Hede               18   21       18          14          22  \n",
       "Ida Himmark Mark               12   20       16          14          14  \n",
       "Jens Febbersted                17   19       17          14          20  \n",
       "Jens Molshuse                  18   23       20          15          19  \n",
       "Jørgen Hallenslev Gårde        12   10       13           8          13  \n",
       "Jørgen Normark                 14   14       11           7          14  \n",
       "Jørgen Storå                   17   17       15          10          17  \n",
       "Jørgen Trængstrup              16   18       16          16          16  \n",
       "Kirsten Dybdal                 13   16       16           8          12  \n",
       "Kirsten Hjortegårde            17   19       18          15          18  \n",
       "Maria Skibsted Å                9   11       11           7          10  \n",
       "Mette Blushøj                  18   21       18          14          22  \n",
       "Mette Tise Udflyttere          12   20       16          14          14  \n",
       "Peter Holmdrup                 17   19       17          14          20  \n",
       "Peter Villendrup               18   23       20          15          19  \n",
       "William Magleholm              12   10       13           8          13  \n",
       "William Trævel Å               14   14       11           7          14  "
      ]
     },
     "execution_count": 67,
     "metadata": {},
     "output_type": "execute_result"
    }
   ],
   "source": [
    "import pandas as pd\n",
    "df_labelled = pd.DataFrame(data=scores.values(), columns=col_name_list, index=[s.elev.fulde_navn for s in scores])\n",
    "df_labelled"
   ]
  },
  {
   "cell_type": "markdown",
   "metadata": {},
   "source": [
    "## \\* Preprocess (if necessary) in order to prepare for 12-box-plot\n",
    "Preprocess does not seem necessary."
   ]
  },
  {
   "cell_type": "markdown",
   "metadata": {},
   "source": [
    "## \\* Plot and label\n",
    "Here, I need the `boxplot` element of the \n",
    "[`matplotplib` package](https://matplotlib.org/)"
   ]
  },
  {
   "cell_type": "code",
   "execution_count": 147,
   "metadata": {},
   "outputs": [
    {
     "data": {
      "image/png": "[encoded data removed]",
      "text/plain": [
       "<Figure size 432x288 with 1 Axes>"
      ]
     },
     "metadata": {
      "needs_background": "light"
     },
     "output_type": "display_data"
    }
   ],
   "source": [
    "%matplotlib inline  \n",
    "#def box_backdrop(klasse='1test', \n",
    "elev_navn='Jørgen Trængstrup'\n",
    "from matplotlib import pyplot as plt\n",
    "    # type(df.to_numpy > method > TypeError. Corrected by adding '()'\n",
    "klasse = df.to_numpy()\n",
    "# Elev needs reindexing to align on horizontal axis\n",
    "elev_score = df_labelled.loc[elev_navn].to_numpy()\n",
    "hor_ax =range(1,1+len(elev_score))\n",
    "#fig = plt.figure()\n",
    "#fig.subplots_adjust(top=0.8)\n",
    "#ax1 = fig.add_subplot(211)\n",
    "plt.ylabel('Score')\n",
    "plt.xlabel('Kriterium')\n",
    "plt.boxplot(klasse)\n",
    "plt.title(elev_navn+', '+klasse_navn)\n",
    "plt.xticks(hor_ax, df.columns.values, rotation='vertical')\n",
    "plt.yticks([6*i for i in range(1,5)])\n",
    "plt.plot(hor_ax, elev_score, 'or')\n",
    "plt.show()"
   ]
  },
  {
   "cell_type": "code",
   "execution_count": 38,
   "metadata": {},
   "outputs": [
    {
     "data": {
      "text/plain": [
       "<bound method DataFrame.to_numpy of     opg1  opg2  opg3  opg4  opg5  opg6  tankegang  fagsprog  cas  diagram  \\\n",
       "0     13    12     9    16    15     9         14        14   14       11   \n",
       "1     15    13    14    15    15    19         15        17   17       15   \n",
       "2     21    20    13     6    23    14         15        16   18       16   \n",
       "3     16    14    10    13    14    11         13        13   16       16   \n",
       "4     20    19    16    18    17    12         15        17   19       18   \n",
       "5     18     6     6    11    10     6          9         9   11       11   \n",
       "6     19    17    16    21    17    20         17        18   21       18   \n",
       "7     24    11    16    19    10     8         12        12   20       16   \n",
       "8     18    17    16    22    20     9         15        17   19       17   \n",
       "9     19    18    15    22    23    18         20        18   23       20   \n",
       "10    12    12    12    12     9    10         11        12   10       13   \n",
       "11    13    12     9    16    15     9         14        14   14       11   \n",
       "12    15    13    14    15    15    19         15        17   17       15   \n",
       "13    21    20    13     6    23    14         15        16   18       16   \n",
       "14    16    14    10    13    14    11         13        13   16       16   \n",
       "15    20    19    16    18    17    12         15        17   19       18   \n",
       "16    18     6     6    11    10     6          9         9   11       11   \n",
       "17    19    17    16    21    17    20         17        18   21       18   \n",
       "18    24    11    16    19    10     8         12        12   20       16   \n",
       "19    18    17    16    22    20     9         15        17   19       17   \n",
       "20    19    18    15    22    23    18         20        18   23       20   \n",
       "21    12    12    12    12     9    10         11        12   10       13   \n",
       "22    13    12     9    16    15     9         14        14   14       11   \n",
       "\n",
       "    sammenhæng  konklusion  \n",
       "0            7          14  \n",
       "1           10          17  \n",
       "2           16          16  \n",
       "3            8          12  \n",
       "4           15          18  \n",
       "5            7          10  \n",
       "6           14          22  \n",
       "7           14          14  \n",
       "8           14          20  \n",
       "9           15          19  \n",
       "10           8          13  \n",
       "11           7          14  \n",
       "12          10          17  \n",
       "13          16          16  \n",
       "14           8          12  \n",
       "15          15          18  \n",
       "16           7          10  \n",
       "17          14          22  \n",
       "18          14          14  \n",
       "19          14          20  \n",
       "20          15          19  \n",
       "21           8          13  \n",
       "22           7          14  >"
      ]
     },
     "execution_count": 38,
     "metadata": {},
     "output_type": "execute_result"
    }
   ],
   "source": [
    "df.reset_index(drop=True, inplace=True)\n",
    "df.to_numpy"
   ]
  },
  {
   "cell_type": "code",
   "execution_count": 69,
   "metadata": {
    "scrolled": true
   },
   "outputs": [
    {
     "data": {
      "text/plain": [
       "opg1          21\n",
       "opg2          20\n",
       "opg3          13\n",
       "opg4           6\n",
       "opg5          23\n",
       "opg6          14\n",
       "tankegang     15\n",
       "fagsprog      16\n",
       "cas           18\n",
       "diagram       16\n",
       "sammenhæng    16\n",
       "konklusion    16\n",
       "Name: Jørgen Trængstrup, dtype: int64"
      ]
     },
     "execution_count": 69,
     "metadata": {},
     "output_type": "execute_result"
    }
   ],
   "source": [
    "df_labelled.loc['Jørgen Trængstrup']"
   ]
  },
  {
   "cell_type": "code",
   "execution_count": 128,
   "metadata": {},
   "outputs": [
    {
     "data": {
      "text/plain": [
       "<Klasse: 1test (2020), Prøvens Gymnasium>"
      ]
     },
     "execution_count": 128,
     "metadata": {},
     "output_type": "execute_result"
    }
   ],
   "source": [
    "from boxplot.models import Elev, Klasse, AssesmentScore, Aflevering\n",
    "Klasse.objects.get(navn='1test')"
   ]
  },
  {
   "cell_type": "markdown",
   "metadata": {},
   "source": [
    "One approach to filter for **both** a school class, `Klasse`,\n",
    "**and** a assignment, `Aflevering`, is to \n",
    "[chain filters](https://docs.djangoproject.com/en/3.1/topics/db/queries/#chaining-filters),\n",
    "another is to derive from a `django.filters` class, like \n",
    "[this SO answer](https://stackoverflow.com/a/57270647/888033)\n",
    "suggests."
   ]
  },
  {
   "cell_type": "code",
   "execution_count": 125,
   "metadata": {},
   "outputs": [
    {
     "data": {
      "text/plain": [
       "(<Klasse: 1test (2020), Prøvens Gymnasium>, 3)"
      ]
     },
     "execution_count": 125,
     "metadata": {},
     "output_type": "execute_result"
    }
   ],
   "source": [
    "selected_class = Klasse.objects.get(navn='1test')\n",
    "(selected_class, selected_class.id)"
   ]
  },
  {
   "cell_type": "markdown",
   "metadata": {},
   "source": [
    "Assignment, `Aflevering` from the selected class **and** with the title related to 'covid'."
   ]
  },
  {
   "cell_type": "code",
   "execution_count": 155,
   "metadata": {},
   "outputs": [
    {
     "data": {
      "text/plain": [
       "<QuerySet [<Aflevering: 'Model af CoVID19', 1test (2020/2) Prøvens Gymnasium, senest: 2020-11-10>]>"
      ]
     },
     "execution_count": 155,
     "metadata": {},
     "output_type": "execute_result"
    }
   ],
   "source": [
    "aflev1 = Aflevering.objects.filter(\n",
    "    titel__icontains = 'covid'\n",
    ")\n",
    "aflev1"
   ]
  },
  {
   "cell_type": "markdown",
   "metadata": {},
   "source": [
    "In the following cell, it looks like no assignments are submitted by students in class `1test`"
   ]
  },
  {
   "cell_type": "code",
   "execution_count": 157,
   "metadata": {},
   "outputs": [
    {
     "name": "stdout",
     "output_type": "stream",
     "text": [
      "<QuerySet [<Aflevering: 'Model af CoVID19', 1test (2020/2) Prøvens Gymnasium, senest: 2020-11-10>]>\n"
     ]
    }
   ],
   "source": [
    "aflev2 = Aflevering.objects.filter(\n",
    "    klasse = selected_class.id\n",
    ")\n",
    "print((aflev2))"
   ]
  },
  {
   "cell_type": "markdown",
   "metadata": {},
   "source": [
    "I therefore inspect the Aflevering model through the Django admin page, <http://localhost:8000/admin> (NB: Development server HTTP, not HTTP**S**). What I saw is shown as screendumps below.\n",
    "\n",
    "![AssessmentScore inconsistent](AssessmentScore_inconsistent.png)\n",
    "![Aflevering inconsistent](Aflevering_inconsistent.png)\n",
    "\n",
    "Correcting this bootstrapped/demo `Aflevering` to be submitted by the class `1test`, \n",
    "the empty QuerySet gets populated as expected."
   ]
  },
  {
   "cell_type": "code",
   "execution_count": 173,
   "metadata": {},
   "outputs": [
    {
     "name": "stdout",
     "output_type": "stream",
     "text": [
      "24\n"
     ]
    }
   ],
   "source": [
    "aflev = Aflevering.objects.filter(\n",
    "    titel__icontains = 'covid'\n",
    ").filter(\n",
    "    klasse = selected_class.id\n",
    ")\n",
    "#print('Antal:', len(aflev))\n",
    "if len(aflev) == 1:\n",
    "    ass = AssesmentScore.objects.filter( aflevering = aflev[0].id )\n",
    "    elev_liste = [elev.id for elev in ass]\n",
    "    roster = Elev.objects.filter( pk__in=elev_liste)\n",
    "else:\n",
    "    print(len(aflev), \"afleveringer lever op til kravet. Det er en fejl\")\n",
    "    exit\n",
    "#print(ass)\n",
    "print(len(ass))"
   ]
  },
  {
   "cell_type": "code",
   "execution_count": 172,
   "metadata": {},
   "outputs": [],
   "source": [
    "selected_class = Klasse.objects.get(navn='1test')\n",
    "selected_assignment = Aflevering.objects.get(titel__icontains='covid')"
   ]
  },
  {
   "cell_type": "markdown",
   "metadata": {},
   "source": [
    "This **chained filter** produces a Django `QuerySet` of the `AssessmentScore` records\n",
    "related **both**  to an assignment in which the string `covid` appears,\n",
    "`icontains` (disregarding upper/lower case: prepended `i`)"
   ]
  },
  {
   "cell_type": "code",
   "execution_count": 23,
   "metadata": {},
   "outputs": [
    {
     "data": {
      "text/plain": [
       "23"
      ]
     },
     "execution_count": 23,
     "metadata": {},
     "output_type": "execute_result"
    }
   ],
   "source": [
    "aflevering='covid'\n",
    "klasse_navn = '1test'\n",
    "qs = AssesmentScore.objects.filter(\n",
    "    aflevering__in = Aflevering.objects.filter(titel__icontains=aflevering)\n",
    ").filter(\n",
    "    elev__in = Elev.objects.filter( klasse = Klasse.objects.get(navn=klasse_navn))\n",
    ")\n",
    "len(qs)"
   ]
  },
  {
   "cell_type": "markdown",
   "metadata": {},
   "source": [
    "### Concluding the experiment: Function def"
   ]
  },
  {
   "cell_type": "code",
   "execution_count": 15,
   "metadata": {},
   "outputs": [],
   "source": [
    "from boxplot.models import AssesmentScore, Aflevering, Elev, Klasse\n",
    "from matplotlib import pyplot as plt\n",
    "import pandas as pd\n",
    "import pickle\n",
    "from io import BytesIO\n",
    "import base64"
   ]
  },
  {
   "cell_type": "markdown",
   "metadata": {},
   "source": [
    "- [Real Python on **understanding Matplotlib**](https://realpython.com/python-matplotlib-guide/)\n",
    "- On [profiling and code optimization](https://wiki.python.org/moin/PythonSpeed/PerformanceTips#Profiling_Code)\n",
    "  in the Python documentation. Also \n",
    "  [this PDF](https://www.ace-net.ca/wp-content/uploads/2016/07/Python-Profiling-and-Optimizing-Code.pdf)\n",
    "  and the GitHub free-sample repo for\n",
    "  [IPython Cookbook](https://ipython-books.github.io/42-profiling-your-code-easily-with-cprofile-and-ipython/)\n",
    "  looks worth some reading.\n",
    "- In practice, I thus used \n",
    "  [line magic function `%timeit`](https://ipython.readthedocs.io/en/stable/interactive/magics.html#magic-timeit)\n",
    "  to measure execution speed.\n",
    "  \n",
    "In these notebook cells:\n",
    "1. The necessary **modules are imported**.\n",
    "1. A **function**, the product of which is to be used as backdrop for each student's dot plot is **defined**.\n",
    "1. Using the function, the produced plot is **stored as Python object** using `pickle`.\n",
    "1. The pickled plot is retrieved and **overlaid** with a student's dot plot\n",
    "1. The final plot is converted to a PNG *image file*, \n",
    "   which is **stored to a buffered stream** (rather than to a hard drive).\n",
    "1. The image file is then collected from the stream and **converted** to a `base64` string.\n",
    "1. This string is **embedded** in an HTML `img` tag."
   ]
  },
  {
   "cell_type": "code",
   "execution_count": 29,
   "metadata": {
    "scrolled": true
   },
   "outputs": [],
   "source": [
    "#%%timeit\n",
    "#%matplotlib inline\n",
    "def box_backdrop(klasse_navn, aflevering):\n",
    "    \"\"\"\n",
    "    Creates a pyplot figure of 12 box-and-whiskers plots \n",
    "    with the Klasse >< Aflevering relation AssesmentScore.\n",
    "    \n",
    "    Performance: Django model data gathered, boxplot compiled in half a second.\n",
    "    %%timeit gives: \n",
    "    449 ms ± 26.2 ms per loop (mean ± std. dev. of 7 runs, 1 loop each)\n",
    "    \n",
    "    Earlier profilings:\n",
    "    779 ms ± 70.5 ms per loop (mean ± std. dev. of 7 runs, 3 loops each)\n",
    "    - Consider cache\n",
    "    And: 239 ms ± 3.83 ms per loop (mean ± std. dev. of 7 runs, 3 loops each)\n",
    "         Compiler time: 0.22 s\n",
    "    \n",
    "    Parameters\n",
    "    klasse_navn\n",
    "    aflevering (TODO: Implement filtering for submitted Assignment)\n",
    "    \n",
    "    Returns the pandas DataFrame of individual students used \n",
    "    (Model field fulde_navn as index).\n",
    "    This DF can be used to overlay the generated plot with a point plot\n",
    "    of each individual student.\n",
    "    Suggestion: Store/cache \"backdrop\" plot and DF after first function call.\n",
    "    Retrieve each time a feedback overlay of individual Student's performance\n",
    "    needs to be plotted.\n",
    "    \"\"\"\n",
    "    roster = Elev.objects.filter( klasse = Klasse.objects.get(navn=klasse_navn))\n",
    "    pile_assessed = Aflevering.objects.filter( titel__icontains = aflevering )\n",
    "    scores = AssesmentScore.objects.filter(\n",
    "        aflevering__in = pile_assessed\n",
    "    ).filter(\n",
    "        elev__in = roster \n",
    "    )\n",
    "    #scores = AssesmentScore.objects.filter(elev__in=roster)\n",
    "    klasse = Klasse.objects.get( navn = klasse_navn )\n",
    "    elev_data = Elev.objects.filter( klasse = klasse.id )\n",
    "    klasse_comprehension = [e.fulde_navn for e in elev_data]\n",
    "    col_name_list = [f'opg{i}' for i in range(1,7)]\n",
    "    col_name_list += [field.name for field in AssesmentScore._meta.fields][-6:]\n",
    "    df_labelled = pd.DataFrame(\n",
    "        data=scores.values(),\n",
    "        columns=col_name_list,\n",
    "        index=[s.elev.fulde_navn for s in scores]\n",
    "    )\n",
    "    # Conversion avoids TypeError: cannot perform reduce with flexible type\n",
    "    klasse_data = df_labelled.to_numpy()\n",
    "    # type(df.to_numpy > method > TypeError. Corrected by adding '()'\n",
    "    boxplot = plt.figure()\n",
    "    boxplot = plt.boxplot(klasse_data)\n",
    "    boxplot = plt.axes\n",
    "    boxplot = plt.ylabel('Score')\n",
    "    boxplot = plt.xlabel('Kriterium')\n",
    "    boxplot = plt.boxplot(klasse_data)\n",
    "    #print(df_labelled.columns.values)\n",
    "    boxplot = plt.xticks(\n",
    "        range(1,1+df_labelled.shape[1]),\n",
    "        df_labelled.columns.values,\n",
    "        rotation='vertical'\n",
    "    )\n",
    "    boxplot = plt.yticks([6*i for i in range(1,5)])\n",
    "    return df_labelled\n",
    "klasse_navn = '1test'\n",
    "df = box_backdrop(klasse_navn,'covid')\n",
    "import pickle\n",
    "pickle.dump( plt.gcf(), open( \"current_plot.p\", \"wb\" ) )\n",
    "pickle.dump( df, open( f\"boxplot_klasse{klasse_navn}.p\", \"wb\" ) )\n",
    "plt.close()"
   ]
  },
  {
   "cell_type": "markdown",
   "metadata": {},
   "source": [
    "[Wiki: Using Pickle](https://wiki.python.org/moin/UsingPickle)"
   ]
  },
  {
   "cell_type": "markdown",
   "metadata": {},
   "source": [
    "## Overlay with arbitraty, individual student data (dot plot)."
   ]
  },
  {
   "cell_type": "code",
   "execution_count": 27,
   "metadata": {
    "scrolled": true
   },
   "outputs": [],
   "source": [
    "#%%timeit\n",
    "### Time profiler measurements with Function call:\n",
    "### 738 ms ± 11.6 ms per loop (mean ± std. dev. of 7 runs, 1 loop each)\n",
    "### 831 ms ± 84.3 ms per loop (mean ± std. dev. of 7 runs, 1 loop each)\n",
    "klasse_navn='1test'\n",
    "#klasse_scores = box_backdrop(klasse_navn=klasse_navn)\n",
    "\n",
    "### Time profiler measurements with Pickle:\n",
    "### 487 ms ± 13.3 ms per loop (mean ± std. dev. of 7 runs, 1 loop each)\n",
    "### 476 ms ± 10.4 ms per loop (mean ± std. dev. of 7 runs, 1 loop each)\n",
    "### 486 ms ± 11.2 ms per loop (mean ± std. dev. of 7 runs, 1 loop each)\n",
    "with open( f\"current_plot.p\", \"rb\" ) as c:\n",
    "    pickle.load( c )\n",
    "\n",
    "with open( f\"boxplot_klasse{klasse_navn}.p\", \"rb\" ) as k:\n",
    "    klasse_scores = pickle.load( k )\n",
    "\n",
    "### Set plot title\n",
    "elev_navn='Ida Himmark Mark'\n",
    "#elev_navn='Emma Oue'\n",
    "#elev_navn='Helle Byskov'\n",
    "plt.title(elev_navn+', '+klasse_navn)\n",
    "\n",
    "### Overlay\n",
    "### The row for this student\n",
    "elev_score = klasse_scores.loc[elev_navn].to_numpy()\n",
    "### Plot circled dots, 'o' in color RED, 'r'\n",
    "### Range 1..12 needs to be explicitated (X-values).\n",
    "plt.plot(\n",
    "    range(1, 1+klasse_scores.shape[1]), \n",
    "    elev_score, \n",
    "    'or'\n",
    ")\n",
    "\n",
    "### Convert matplotlib object and tidy up\n",
    "### Save plot to a temporary buffer.\n",
    "buf = BytesIO()\n",
    "plt.savefig(buf, format=\"png\")\n",
    "# Embed the result in the html output.\n",
    "imgdata = base64.b64encode(buf.getbuffer()).decode(\"ascii\")\n",
    "plt.close()\n",
    "del(buf)"
   ]
  },
  {
   "cell_type": "markdown",
   "metadata": {},
   "source": [
    "## Saving the plot as image for Django View\n",
    "The documentation's \n",
    "\"[How to use matplotlib for web applications](https://matplotlib.org/3.1.1/faq/howto_faq.html?highlight=save#howto-webapp)\"\n",
    "says:\n",
    "> In general, the simplest solution when using Matplotlib in a web server is to completely avoid using pyplot (pyplot maintains references to the opened figures to make `show` work, but this will cause memory leaks unless the figures are properly closed). \n",
    "\n",
    "As I read this, you can avoid memory leaks by closing the pyplot object (stream?).\n",
    "Hence, I can avoid refactoring. \n",
    "And the image output above displays as expected, e.g. on\n",
    "<https://www.w3schools.com/tags/tryit.asp?filename=tryhtml_image_test>"
   ]
  },
  {
   "cell_type": "markdown",
   "metadata": {},
   "source": [
    "## View function and associated Template\n",
    "```\n",
    "feedback_view(elev,klasse,aflevering):\n",
    "    context = {assessment_graf : imgdata, ...}\n",
    "```\n",
    "Og skabelon\n",
    "```\n",
    "<img src='data:image/png;base64,{{ assessment_graf }}'/>\n",
    "```\n",
    "\n",
    "You can copy the HTML image tag below e.g. in\n",
    "<https://www.w3schools.com/tags/tryit.asp?filename=tryhtml_image_test>\n",
    "to show the plot."
   ]
  },
  {
   "cell_type": "code",
   "execution_count": 28,
   "metadata": {
    "scrolled": true
   },
   "outputs": [
    {
     "name": "stdout",
     "output_type": "stream",
     "text": [
      "<img src='data:image/png;base64,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'/>\n"
     ]
    }
   ],
   "source": [
    "print(f\"<img src='data : image/png; base64, {imgdata}'/>\")\n"
   ]
  }
 ],
 "metadata": {
  "kernelspec": {
   "display_name": "Python 3",
   "language": "python",
   "name": "python3"
  },
  "language_info": {
   "codemirror_mode": {
    "name": "ipython",
    "version": 3
   },
   "file_extension": ".py",
   "mimetype": "text/x-python",
   "name": "python",
   "nbconvert_exporter": "python",
   "pygments_lexer": "ipython3",
   "version": "3.8.5"
  }
 },
 "nbformat": 4,
 "nbformat_minor": 4
}
