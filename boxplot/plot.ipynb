{
 "cells": [
  {
   "cell_type": "markdown",
   "metadata": {},
   "source": [
    "# Boxplot on AssessmentScore data, overlay w dots\n",
    "I need a **plot** to summarize the assessment score data.\n",
    "Plots may be built with\n",
    "[matplotlib](https://realpython.com/python-matplotlib-guide/)\n",
    "elements in Python.\n",
    "[MatLibPlot documentation](https://matplotlib.org/).\n",
    "\n",
    "Deploying `matlibplot` classes **as if they were within a Django project**\n",
    "is made tricky demanding that the environment in which Django *apps* live\n",
    "has a namespace that is initiated using (only?) the Django project's `settings.py`.\n",
    "\n",
    "In this notebook, I experiment my way into \n",
    "[functional programming](https://en.wikipedia.org/wiki/Functional_programming)\n",
    "with the mires of scope, name spacing,\n",
    "[passing by value or by reference](https://www.python-course.eu/passing_arguments.php),\n",
    "mutable and immutable objects.\n",
    "Did I mention that plots will be among the objects, I will look into?\n",
    "\n",
    "But first simple example of\n",
    "\n",
    "\n",
    "1. [Set up](https://www.codingforentrepreneurs.com/blog/use-django-in-jupyter)\n",
    "   Jupyter for Django:\n",
    "   - I copied in the file `django_for_jupyter.py` in project root directory.\n",
    "     > My Django project root dir is: `.../Python/django/box_whiskers_demo`\n",
    "   - Same location, now issue \n",
    "     > `$ DJANGO_PROJECT=\"box_whiskers_demo\" jupyter notebook`\n",
    "   - This will start Jupyter lab **in browser** - and thus \n",
    "     access to **this Notebook** with Django project access.\n",
    "     Does logic seem backward? Sorry!\n",
    "1. Initiate Django in Jupyter notebook.\n",
    "1. **Retrieve data** from model `AssessmentScore`\n",
    "1. Preprocess (if necessary) in order to **prepare for 12-box-plot**.\n",
    "1. Plot and label\n",
    "1. **Overlay** with arbitraty, individual student data (**dot** plot)."
   ]
  },
  {
   "cell_type": "markdown",
   "metadata": {},
   "source": [
    "But first, take a moment to contemplate, what is going on in this example, \n",
    "where a variable `x` is passed to a function, used in that function\n",
    "and updated within the function.\n",
    "To different object types, an `int` and a `list` are passed.\n",
    "Note also the identity bewteen the `id` of the assigned values."
   ]
  },
  {
   "cell_type": "code",
   "execution_count": 42,
   "metadata": {},
   "outputs": [
    {
     "name": "stdout",
     "output_type": "stream",
     "text": [
      "Main scope: x= 8  id= 94296303214112\n",
      "Function scope x= 8  id= 94296303214112\n",
      "Function scope x= 42  id= 94296303215200\n",
      "\n",
      "Main scope: x= ['8', '1']  id= 140215180478080\n",
      "Function scope x= ['8', '1']  id= 140215180478080\n",
      "Function scope x= 42  id= 94296303215200\n"
     ]
    }
   ],
   "source": [
    "def ref_demo(x):\n",
    "    print(\"Function scope x=\",x,\" id=\",id(x))\n",
    "    x=42\n",
    "    print(\"Function scope x=\",x,\" id=\",id(x))\n",
    "x = 8\n",
    "print(\"Main scope: x=\",x,\" id=\",id(x))\n",
    "ref_demo(x)\n",
    "print()\n",
    "x = ['8','1']\n",
    "print(\"Main scope: x=\",x,\" id=\",id(x))\n",
    "ref_demo(x)"
   ]
  },
  {
   "cell_type": "markdown",
   "metadata": {},
   "source": [
    "## Initiate Django in Jupyter notebook.\n",
    "With these preparations in place, we can **initiate** the **Django environment**"
   ]
  },
  {
   "cell_type": "code",
   "execution_count": 1,
   "metadata": {},
   "outputs": [],
   "source": [
    "from django_for_jupyter import init_django\n",
    "init_django()"
   ]
  },
  {
   "cell_type": "markdown",
   "metadata": {},
   "source": [
    "Now, the Notebook simulates the environment that exists inside the Django app."
   ]
  },
  {
   "cell_type": "markdown",
   "metadata": {},
   "source": [
    "## Retrieve data from model `AssessmentScore`"
   ]
  },
  {
   "cell_type": "markdown",
   "metadata": {},
   "source": [
    "We'll check out how many students are active and registered in the `1test` class.\n",
    "Then, we'll inspect the names of the first two (counted in the order they are registered to the Django model)."
   ]
  },
  {
   "cell_type": "code",
   "execution_count": 2,
   "metadata": {},
   "outputs": [
    {
     "data": {
      "text/plain": [
       "(23, ['Camilla Horserød', 'Camilla Vejlebyskov'])"
      ]
     },
     "execution_count": 2,
     "metadata": {},
     "output_type": "execute_result"
    }
   ],
   "source": [
    "from boxplot.models import Elev, Klasse\n",
    "query_set = Elev.objects.filter( klasse = Klasse.objects.get( navn = '1test' ))\n",
    "klasse_comprehension = [e.fulde_navn for e in query_set]\n",
    "len(klasse_comprehension), klasse_comprehension[:2]"
   ]
  },
  {
   "cell_type": "markdown",
   "metadata": {},
   "source": [
    "The `filter()` returns a QuerySet containing no, one or multiple records,\n",
    "while the `get()` method is assured to return **at most one** record in the QuerySet\n",
    "or throw an error.\n",
    "\n",
    "Thus, we may have **several students**, `Elev`,\n",
    "but they all belong to the same, i.e. **exactly one, class**.\n",
    "But we may only have students, provided a class with that name exists, **and** \n",
    "any students are registrered with that class.\n",
    "Otherwise, we will have no students, but furthermore, \n",
    "the model manager will \n",
    "[raise](https://realpython.com/python-exceptions/)\n",
    "the `DoesNotExist` error."
   ]
  },
  {
   "cell_type": "code",
   "execution_count": 3,
   "metadata": {},
   "outputs": [
    {
     "name": "stdout",
     "output_type": "stream",
     "text": [
      "Ups - \"non_existant\" - findes ikke i Django-databasen.\n"
     ]
    }
   ],
   "source": [
    "klassens_betegnelse = 'non_existant'\n",
    "from django.core.exceptions import ObjectDoesNotExist\n",
    "try: \n",
    "    query_set = Elev.objects.filter( klasse = Klasse.objects.get( navn = klassens_betegnelse ))\n",
    "except ObjectDoesNotExist as e:\n",
    "    print('Ups - \"'+klassens_betegnelse+'\" - findes ikke i Django-databasen.')"
   ]
  },
  {
   "cell_type": "markdown",
   "metadata": {},
   "source": [
    "Every **Django Model** has a `DoesNotExist` exception,\n",
    "subclassing the `ObjectDoesNotExist` class, see \n",
    "[this SO answer](https://stackoverflow.com/a/52455861/888033).\n",
    "Thus, the above construction **will catch** a `DoesNotExist` exception\n",
    "of an **existing** class being presented to a `Elev` model where that class is registered nowhere.\n",
    "It will **also catch** the demonstrated exception, where to class with that name is found."
   ]
  },
  {
   "cell_type": "markdown",
   "metadata": {},
   "source": [
    "Now, we shall select an assignment, `Aflevering`, followed by picking the `AssessmentScores` related to the QuerySet of `Elev` objects and to that `Aflevering`."
   ]
  },
  {
   "cell_type": "code",
   "execution_count": 4,
   "metadata": {},
   "outputs": [
    {
     "data": {
      "text/plain": [
       "['Model af CoVID19']"
      ]
     },
     "execution_count": 4,
     "metadata": {},
     "output_type": "execute_result"
    }
   ],
   "source": [
    "from boxplot.models import Elev, Klasse, AssesmentScore, Aflevering\n",
    "[a.titel for a in Aflevering.objects.all()]"
   ]
  },
  {
   "cell_type": "markdown",
   "metadata": {},
   "source": [
    "OK, we have exactly 1 assignment, the `Aflevering` QuerySet has 1 element.\n",
    "I think we can speak of the Django `AssementScore` model as a \n",
    "[reification](https://www.techopedia.com/definition/21674/reification)\n",
    "of the relation between the Django `Aflevering` model and the `Elev` model.\n",
    "\n",
    "![Reification UML](UML_assessmentScore_reification.png)"
   ]
  },
  {
   "cell_type": "code",
   "execution_count": 5,
   "metadata": {},
   "outputs": [
    {
     "data": {
      "text/plain": [
       "(23, boxplot.models.Elev)"
      ]
     },
     "execution_count": 5,
     "metadata": {},
     "output_type": "execute_result"
    }
   ],
   "source": [
    "roster = Elev.objects.filter( klasse = Klasse.objects.get(navn='1test'))\n",
    "len(roster), type([e for e in roster][4])"
   ]
  },
  {
   "cell_type": "code",
   "execution_count": 6,
   "metadata": {},
   "outputs": [],
   "source": [
    "submission = Aflevering.objects.filter( klasse = Klasse.objects.get(navn='1test'), titel__icontains='covid')"
   ]
  },
  {
   "cell_type": "markdown",
   "metadata": {},
   "source": [
    "When filter should match *any* of the items in a list (thanks to\n",
    "[this SO answer](https://stackoverflow.com/a/34303446/888033)):"
   ]
  },
  {
   "cell_type": "code",
   "execution_count": 7,
   "metadata": {},
   "outputs": [
    {
     "data": {
      "text/plain": [
       "(23, boxplot.models.AssesmentScore)"
      ]
     },
     "execution_count": 7,
     "metadata": {},
     "output_type": "execute_result"
    }
   ],
   "source": [
    "scores = AssesmentScore.objects.filter(elev__in=roster)\n",
    "len(scores), type([s for s in scores][2])"
   ]
  },
  {
   "cell_type": "code",
   "execution_count": 9,
   "metadata": {},
   "outputs": [],
   "source": [
    "import pandas as pd\n",
    "df = pd.DataFrame()"
   ]
  },
  {
   "cell_type": "markdown",
   "metadata": {},
   "source": [
    "Now I have to get the **last** six (hence the `-`) field names of the `AssessmentScore` model, stolen from\n",
    "[this SO answer](https://stackoverflow.com/a/11075898/888033)"
   ]
  },
  {
   "cell_type": "code",
   "execution_count": 10,
   "metadata": {},
   "outputs": [
    {
     "data": {
      "text/plain": [
       "['tankegang', 'fagsprog', 'cas', 'diagram', 'sammenhæng', 'konklusion']"
      ]
     },
     "execution_count": 10,
     "metadata": {},
     "output_type": "execute_result"
    }
   ],
   "source": [
    "[field.name for field in AssesmentScore._meta.fields][-6:]"
   ]
  },
  {
   "cell_type": "code",
   "execution_count": 11,
   "metadata": {},
   "outputs": [
    {
     "data": {
      "text/plain": [
       "['opg1',\n",
       " 'opg2',\n",
       " 'opg3',\n",
       " 'opg4',\n",
       " 'opg5',\n",
       " 'opg6',\n",
       " 'tankegang',\n",
       " 'fagsprog',\n",
       " 'cas',\n",
       " 'diagram',\n",
       " 'sammenhæng',\n",
       " 'konklusion']"
      ]
     },
     "execution_count": 11,
     "metadata": {},
     "output_type": "execute_result"
    }
   ],
   "source": [
    "col_name_list = [f'opg{i}' for i in range(1,7)]\n",
    "col_name_list += [field.name for field in AssesmentScore._meta.fields][-6:]\n",
    "col_name_list"
   ]
  },
  {
   "cell_type": "code",
   "execution_count": 13,
   "metadata": {
    "scrolled": true
   },
   "outputs": [
    {
     "data": {
      "text/plain": [
       "['Camilla Horserød',\n",
       " 'Camilla Vejlebyskov',\n",
       " 'Emma Oue',\n",
       " 'Helle Barup',\n",
       " 'Helle Byskov',\n",
       " 'Henrik Menstrup',\n",
       " 'Henrik Voer Hede',\n",
       " 'Ida Himmark Mark',\n",
       " 'Jens Febbersted',\n",
       " 'Jens Molshuse',\n",
       " 'Jørgen Hallenslev Gårde',\n",
       " 'Jørgen Normark',\n",
       " 'Jørgen Storå',\n",
       " 'Jørgen Trængstrup',\n",
       " 'Kirsten Dybdal',\n",
       " 'Kirsten Hjortegårde',\n",
       " 'Maria Skibsted Å',\n",
       " 'Mette Blushøj',\n",
       " 'Mette Tise Udflyttere',\n",
       " 'Peter Holmdrup',\n",
       " 'Peter Villendrup',\n",
       " 'William Magleholm',\n",
       " 'William Trævel Å']"
      ]
     },
     "execution_count": 13,
     "metadata": {},
     "output_type": "execute_result"
    }
   ],
   "source": [
    "[s.elev.fulde_navn for s in scores]"
   ]
  },
  {
   "cell_type": "code",
   "execution_count": 67,
   "metadata": {
    "scrolled": true
   },
   "outputs": [
    {
     "data": {
      "text/html": [
       "<div>\n",
       "<style scoped>\n",
       "    .dataframe tbody tr th:only-of-type {\n",
       "        vertical-align: middle;\n",
       "    }\n",
       "\n",
       "    .dataframe tbody tr th {\n",
       "        vertical-align: top;\n",
       "    }\n",
       "\n",
       "    .dataframe thead th {\n",
       "        text-align: right;\n",
       "    }\n",
       "</style>\n",
       "<table border=\"1\" class=\"dataframe\">\n",
       "  <thead>\n",
       "    <tr style=\"text-align: right;\">\n",
       "      <th></th>\n",
       "      <th>opg1</th>\n",
       "      <th>opg2</th>\n",
       "      <th>opg3</th>\n",
       "      <th>opg4</th>\n",
       "      <th>opg5</th>\n",
       "      <th>opg6</th>\n",
       "      <th>tankegang</th>\n",
       "      <th>fagsprog</th>\n",
       "      <th>cas</th>\n",
       "      <th>diagram</th>\n",
       "      <th>sammenhæng</th>\n",
       "      <th>konklusion</th>\n",
       "    </tr>\n",
       "  </thead>\n",
       "  <tbody>\n",
       "    <tr>\n",
       "      <th>Camilla Horserød</th>\n",
       "      <td>13</td>\n",
       "      <td>12</td>\n",
       "      <td>9</td>\n",
       "      <td>16</td>\n",
       "      <td>15</td>\n",
       "      <td>9</td>\n",
       "      <td>14</td>\n",
       "      <td>14</td>\n",
       "      <td>14</td>\n",
       "      <td>11</td>\n",
       "      <td>7</td>\n",
       "      <td>14</td>\n",
       "    </tr>\n",
       "    <tr>\n",
       "      <th>Camilla Vejlebyskov</th>\n",
       "      <td>15</td>\n",
       "      <td>13</td>\n",
       "      <td>14</td>\n",
       "      <td>15</td>\n",
       "      <td>15</td>\n",
       "      <td>19</td>\n",
       "      <td>15</td>\n",
       "      <td>17</td>\n",
       "      <td>17</td>\n",
       "      <td>15</td>\n",
       "      <td>10</td>\n",
       "      <td>17</td>\n",
       "    </tr>\n",
       "    <tr>\n",
       "      <th>Emma Oue</th>\n",
       "      <td>21</td>\n",
       "      <td>20</td>\n",
       "      <td>13</td>\n",
       "      <td>6</td>\n",
       "      <td>23</td>\n",
       "      <td>14</td>\n",
       "      <td>15</td>\n",
       "      <td>16</td>\n",
       "      <td>18</td>\n",
       "      <td>16</td>\n",
       "      <td>16</td>\n",
       "      <td>16</td>\n",
       "    </tr>\n",
       "    <tr>\n",
       "      <th>Helle Barup</th>\n",
       "      <td>16</td>\n",
       "      <td>14</td>\n",
       "      <td>10</td>\n",
       "      <td>13</td>\n",
       "      <td>14</td>\n",
       "      <td>11</td>\n",
       "      <td>13</td>\n",
       "      <td>13</td>\n",
       "      <td>16</td>\n",
       "      <td>16</td>\n",
       "      <td>8</td>\n",
       "      <td>12</td>\n",
       "    </tr>\n",
       "    <tr>\n",
       "      <th>Helle Byskov</th>\n",
       "      <td>20</td>\n",
       "      <td>19</td>\n",
       "      <td>16</td>\n",
       "      <td>18</td>\n",
       "      <td>17</td>\n",
       "      <td>12</td>\n",
       "      <td>15</td>\n",
       "      <td>17</td>\n",
       "      <td>19</td>\n",
       "      <td>18</td>\n",
       "      <td>15</td>\n",
       "      <td>18</td>\n",
       "    </tr>\n",
       "    <tr>\n",
       "      <th>Henrik Menstrup</th>\n",
       "      <td>18</td>\n",
       "      <td>6</td>\n",
       "      <td>6</td>\n",
       "      <td>11</td>\n",
       "      <td>10</td>\n",
       "      <td>6</td>\n",
       "      <td>9</td>\n",
       "      <td>9</td>\n",
       "      <td>11</td>\n",
       "      <td>11</td>\n",
       "      <td>7</td>\n",
       "      <td>10</td>\n",
       "    </tr>\n",
       "    <tr>\n",
       "      <th>Henrik Voer Hede</th>\n",
       "      <td>19</td>\n",
       "      <td>17</td>\n",
       "      <td>16</td>\n",
       "      <td>21</td>\n",
       "      <td>17</td>\n",
       "      <td>20</td>\n",
       "      <td>17</td>\n",
       "      <td>18</td>\n",
       "      <td>21</td>\n",
       "      <td>18</td>\n",
       "      <td>14</td>\n",
       "      <td>22</td>\n",
       "    </tr>\n",
       "    <tr>\n",
       "      <th>Ida Himmark Mark</th>\n",
       "      <td>24</td>\n",
       "      <td>11</td>\n",
       "      <td>16</td>\n",
       "      <td>19</td>\n",
       "      <td>10</td>\n",
       "      <td>8</td>\n",
       "      <td>12</td>\n",
       "      <td>12</td>\n",
       "      <td>20</td>\n",
       "      <td>16</td>\n",
       "      <td>14</td>\n",
       "      <td>14</td>\n",
       "    </tr>\n",
       "    <tr>\n",
       "      <th>Jens Febbersted</th>\n",
       "      <td>18</td>\n",
       "      <td>17</td>\n",
       "      <td>16</td>\n",
       "      <td>22</td>\n",
       "      <td>20</td>\n",
       "      <td>9</td>\n",
       "      <td>15</td>\n",
       "      <td>17</td>\n",
       "      <td>19</td>\n",
       "      <td>17</td>\n",
       "      <td>14</td>\n",
       "      <td>20</td>\n",
       "    </tr>\n",
       "    <tr>\n",
       "      <th>Jens Molshuse</th>\n",
       "      <td>19</td>\n",
       "      <td>18</td>\n",
       "      <td>15</td>\n",
       "      <td>22</td>\n",
       "      <td>23</td>\n",
       "      <td>18</td>\n",
       "      <td>20</td>\n",
       "      <td>18</td>\n",
       "      <td>23</td>\n",
       "      <td>20</td>\n",
       "      <td>15</td>\n",
       "      <td>19</td>\n",
       "    </tr>\n",
       "    <tr>\n",
       "      <th>Jørgen Hallenslev Gårde</th>\n",
       "      <td>12</td>\n",
       "      <td>12</td>\n",
       "      <td>12</td>\n",
       "      <td>12</td>\n",
       "      <td>9</td>\n",
       "      <td>10</td>\n",
       "      <td>11</td>\n",
       "      <td>12</td>\n",
       "      <td>10</td>\n",
       "      <td>13</td>\n",
       "      <td>8</td>\n",
       "      <td>13</td>\n",
       "    </tr>\n",
       "    <tr>\n",
       "      <th>Jørgen Normark</th>\n",
       "      <td>13</td>\n",
       "      <td>12</td>\n",
       "      <td>9</td>\n",
       "      <td>16</td>\n",
       "      <td>15</td>\n",
       "      <td>9</td>\n",
       "      <td>14</td>\n",
       "      <td>14</td>\n",
       "      <td>14</td>\n",
       "      <td>11</td>\n",
       "      <td>7</td>\n",
       "      <td>14</td>\n",
       "    </tr>\n",
       "    <tr>\n",
       "      <th>Jørgen Storå</th>\n",
       "      <td>15</td>\n",
       "      <td>13</td>\n",
       "      <td>14</td>\n",
       "      <td>15</td>\n",
       "      <td>15</td>\n",
       "      <td>19</td>\n",
       "      <td>15</td>\n",
       "      <td>17</td>\n",
       "      <td>17</td>\n",
       "      <td>15</td>\n",
       "      <td>10</td>\n",
       "      <td>17</td>\n",
       "    </tr>\n",
       "    <tr>\n",
       "      <th>Jørgen Trængstrup</th>\n",
       "      <td>21</td>\n",
       "      <td>20</td>\n",
       "      <td>13</td>\n",
       "      <td>6</td>\n",
       "      <td>23</td>\n",
       "      <td>14</td>\n",
       "      <td>15</td>\n",
       "      <td>16</td>\n",
       "      <td>18</td>\n",
       "      <td>16</td>\n",
       "      <td>16</td>\n",
       "      <td>16</td>\n",
       "    </tr>\n",
       "    <tr>\n",
       "      <th>Kirsten Dybdal</th>\n",
       "      <td>16</td>\n",
       "      <td>14</td>\n",
       "      <td>10</td>\n",
       "      <td>13</td>\n",
       "      <td>14</td>\n",
       "      <td>11</td>\n",
       "      <td>13</td>\n",
       "      <td>13</td>\n",
       "      <td>16</td>\n",
       "      <td>16</td>\n",
       "      <td>8</td>\n",
       "      <td>12</td>\n",
       "    </tr>\n",
       "    <tr>\n",
       "      <th>Kirsten Hjortegårde</th>\n",
       "      <td>20</td>\n",
       "      <td>19</td>\n",
       "      <td>16</td>\n",
       "      <td>18</td>\n",
       "      <td>17</td>\n",
       "      <td>12</td>\n",
       "      <td>15</td>\n",
       "      <td>17</td>\n",
       "      <td>19</td>\n",
       "      <td>18</td>\n",
       "      <td>15</td>\n",
       "      <td>18</td>\n",
       "    </tr>\n",
       "    <tr>\n",
       "      <th>Maria Skibsted Å</th>\n",
       "      <td>18</td>\n",
       "      <td>6</td>\n",
       "      <td>6</td>\n",
       "      <td>11</td>\n",
       "      <td>10</td>\n",
       "      <td>6</td>\n",
       "      <td>9</td>\n",
       "      <td>9</td>\n",
       "      <td>11</td>\n",
       "      <td>11</td>\n",
       "      <td>7</td>\n",
       "      <td>10</td>\n",
       "    </tr>\n",
       "    <tr>\n",
       "      <th>Mette Blushøj</th>\n",
       "      <td>19</td>\n",
       "      <td>17</td>\n",
       "      <td>16</td>\n",
       "      <td>21</td>\n",
       "      <td>17</td>\n",
       "      <td>20</td>\n",
       "      <td>17</td>\n",
       "      <td>18</td>\n",
       "      <td>21</td>\n",
       "      <td>18</td>\n",
       "      <td>14</td>\n",
       "      <td>22</td>\n",
       "    </tr>\n",
       "    <tr>\n",
       "      <th>Mette Tise Udflyttere</th>\n",
       "      <td>24</td>\n",
       "      <td>11</td>\n",
       "      <td>16</td>\n",
       "      <td>19</td>\n",
       "      <td>10</td>\n",
       "      <td>8</td>\n",
       "      <td>12</td>\n",
       "      <td>12</td>\n",
       "      <td>20</td>\n",
       "      <td>16</td>\n",
       "      <td>14</td>\n",
       "      <td>14</td>\n",
       "    </tr>\n",
       "    <tr>\n",
       "      <th>Peter Holmdrup</th>\n",
       "      <td>18</td>\n",
       "      <td>17</td>\n",
       "      <td>16</td>\n",
       "      <td>22</td>\n",
       "      <td>20</td>\n",
       "      <td>9</td>\n",
       "      <td>15</td>\n",
       "      <td>17</td>\n",
       "      <td>19</td>\n",
       "      <td>17</td>\n",
       "      <td>14</td>\n",
       "      <td>20</td>\n",
       "    </tr>\n",
       "    <tr>\n",
       "      <th>Peter Villendrup</th>\n",
       "      <td>19</td>\n",
       "      <td>18</td>\n",
       "      <td>15</td>\n",
       "      <td>22</td>\n",
       "      <td>23</td>\n",
       "      <td>18</td>\n",
       "      <td>20</td>\n",
       "      <td>18</td>\n",
       "      <td>23</td>\n",
       "      <td>20</td>\n",
       "      <td>15</td>\n",
       "      <td>19</td>\n",
       "    </tr>\n",
       "    <tr>\n",
       "      <th>William Magleholm</th>\n",
       "      <td>12</td>\n",
       "      <td>12</td>\n",
       "      <td>12</td>\n",
       "      <td>12</td>\n",
       "      <td>9</td>\n",
       "      <td>10</td>\n",
       "      <td>11</td>\n",
       "      <td>12</td>\n",
       "      <td>10</td>\n",
       "      <td>13</td>\n",
       "      <td>8</td>\n",
       "      <td>13</td>\n",
       "    </tr>\n",
       "    <tr>\n",
       "      <th>William Trævel Å</th>\n",
       "      <td>13</td>\n",
       "      <td>12</td>\n",
       "      <td>9</td>\n",
       "      <td>16</td>\n",
       "      <td>15</td>\n",
       "      <td>9</td>\n",
       "      <td>14</td>\n",
       "      <td>14</td>\n",
       "      <td>14</td>\n",
       "      <td>11</td>\n",
       "      <td>7</td>\n",
       "      <td>14</td>\n",
       "    </tr>\n",
       "  </tbody>\n",
       "</table>\n",
       "</div>"
      ],
      "text/plain": [
       "                         opg1  opg2  opg3  opg4  opg5  opg6  tankegang  \\\n",
       "Camilla Horserød           13    12     9    16    15     9         14   \n",
       "Camilla Vejlebyskov        15    13    14    15    15    19         15   \n",
       "Emma Oue                   21    20    13     6    23    14         15   \n",
       "Helle Barup                16    14    10    13    14    11         13   \n",
       "Helle Byskov               20    19    16    18    17    12         15   \n",
       "Henrik Menstrup            18     6     6    11    10     6          9   \n",
       "Henrik Voer Hede           19    17    16    21    17    20         17   \n",
       "Ida Himmark Mark           24    11    16    19    10     8         12   \n",
       "Jens Febbersted            18    17    16    22    20     9         15   \n",
       "Jens Molshuse              19    18    15    22    23    18         20   \n",
       "Jørgen Hallenslev Gårde    12    12    12    12     9    10         11   \n",
       "Jørgen Normark             13    12     9    16    15     9         14   \n",
       "Jørgen Storå               15    13    14    15    15    19         15   \n",
       "Jørgen Trængstrup          21    20    13     6    23    14         15   \n",
       "Kirsten Dybdal             16    14    10    13    14    11         13   \n",
       "Kirsten Hjortegårde        20    19    16    18    17    12         15   \n",
       "Maria Skibsted Å           18     6     6    11    10     6          9   \n",
       "Mette Blushøj              19    17    16    21    17    20         17   \n",
       "Mette Tise Udflyttere      24    11    16    19    10     8         12   \n",
       "Peter Holmdrup             18    17    16    22    20     9         15   \n",
       "Peter Villendrup           19    18    15    22    23    18         20   \n",
       "William Magleholm          12    12    12    12     9    10         11   \n",
       "William Trævel Å           13    12     9    16    15     9         14   \n",
       "\n",
       "                         fagsprog  cas  diagram  sammenhæng  konklusion  \n",
       "Camilla Horserød               14   14       11           7          14  \n",
       "Camilla Vejlebyskov            17   17       15          10          17  \n",
       "Emma Oue                       16   18       16          16          16  \n",
       "Helle Barup                    13   16       16           8          12  \n",
       "Helle Byskov                   17   19       18          15          18  \n",
       "Henrik Menstrup                 9   11       11           7          10  \n",
       "Henrik Voer Hede               18   21       18          14          22  \n",
       "Ida Himmark Mark               12   20       16          14          14  \n",
       "Jens Febbersted                17   19       17          14          20  \n",
       "Jens Molshuse                  18   23       20          15          19  \n",
       "Jørgen Hallenslev Gårde        12   10       13           8          13  \n",
       "Jørgen Normark                 14   14       11           7          14  \n",
       "Jørgen Storå                   17   17       15          10          17  \n",
       "Jørgen Trængstrup              16   18       16          16          16  \n",
       "Kirsten Dybdal                 13   16       16           8          12  \n",
       "Kirsten Hjortegårde            17   19       18          15          18  \n",
       "Maria Skibsted Å                9   11       11           7          10  \n",
       "Mette Blushøj                  18   21       18          14          22  \n",
       "Mette Tise Udflyttere          12   20       16          14          14  \n",
       "Peter Holmdrup                 17   19       17          14          20  \n",
       "Peter Villendrup               18   23       20          15          19  \n",
       "William Magleholm              12   10       13           8          13  \n",
       "William Trævel Å               14   14       11           7          14  "
      ]
     },
     "execution_count": 67,
     "metadata": {},
     "output_type": "execute_result"
    }
   ],
   "source": [
    "import pandas as pd\n",
    "df_labelled = pd.DataFrame(data=scores.values(), columns=col_name_list, index=[s.elev.fulde_navn for s in scores])\n",
    "df_labelled"
   ]
  },
  {
   "cell_type": "markdown",
   "metadata": {},
   "source": [
    "## Preprocess (if necessary) in order to prepare for 12-box-plot\n",
    "Preprocess does not seem necessary."
   ]
  },
  {
   "cell_type": "markdown",
   "metadata": {},
   "source": [
    "## Plot and label\n",
    "Here, I need the `boxplot` element of the \n",
    "[`matplotplib` package](https://matplotlib.org/)"
   ]
  },
  {
   "cell_type": "code",
   "execution_count": 147,
   "metadata": {},
   "outputs": [
    {
     "data": {
      "image/png": "[encoded data removed]",
      "text/plain": [
       "<Figure size 432x288 with 1 Axes>"
      ]
     },
     "metadata": {
      "needs_background": "light"
     },
     "output_type": "display_data"
    }
   ],
   "source": [
    "%matplotlib inline  \n",
    "#def box_backdrop(klasse='1test', \n",
    "elev_navn='Jørgen Trængstrup'\n",
    "from matplotlib import pyplot as plt\n",
    "    # type(df.to_numpy > method > TypeError. Corrected by adding '()'\n",
    "klasse = df.to_numpy()\n",
    "# Elev needs reindexing to align on horizontal axis\n",
    "elev_score = df_labelled.loc[elev_navn].to_numpy()\n",
    "hor_ax =range(1,1+len(elev_score))\n",
    "#fig = plt.figure()\n",
    "#fig.subplots_adjust(top=0.8)\n",
    "#ax1 = fig.add_subplot(211)\n",
    "plt.ylabel('Score')\n",
    "plt.xlabel('Kriterium')\n",
    "plt.boxplot(klasse)\n",
    "plt.title(elev_navn+', '+klasse_navn)\n",
    "plt.xticks(hor_ax, df.columns.values, rotation='vertical')\n",
    "plt.yticks([6*i for i in range(1,5)])\n",
    "plt.plot(hor_ax, elev_score, 'or')\n",
    "plt.show()"
   ]
  },
  {
   "cell_type": "code",
   "execution_count": 38,
   "metadata": {},
   "outputs": [
    {
     "data": {
      "text/plain": [
       "<bound method DataFrame.to_numpy of     opg1  opg2  opg3  opg4  opg5  opg6  tankegang  fagsprog  cas  diagram  \\\n",
       "0     13    12     9    16    15     9         14        14   14       11   \n",
       "1     15    13    14    15    15    19         15        17   17       15   \n",
       "2     21    20    13     6    23    14         15        16   18       16   \n",
       "3     16    14    10    13    14    11         13        13   16       16   \n",
       "4     20    19    16    18    17    12         15        17   19       18   \n",
       "5     18     6     6    11    10     6          9         9   11       11   \n",
       "6     19    17    16    21    17    20         17        18   21       18   \n",
       "7     24    11    16    19    10     8         12        12   20       16   \n",
       "8     18    17    16    22    20     9         15        17   19       17   \n",
       "9     19    18    15    22    23    18         20        18   23       20   \n",
       "10    12    12    12    12     9    10         11        12   10       13   \n",
       "11    13    12     9    16    15     9         14        14   14       11   \n",
       "12    15    13    14    15    15    19         15        17   17       15   \n",
       "13    21    20    13     6    23    14         15        16   18       16   \n",
       "14    16    14    10    13    14    11         13        13   16       16   \n",
       "15    20    19    16    18    17    12         15        17   19       18   \n",
       "16    18     6     6    11    10     6          9         9   11       11   \n",
       "17    19    17    16    21    17    20         17        18   21       18   \n",
       "18    24    11    16    19    10     8         12        12   20       16   \n",
       "19    18    17    16    22    20     9         15        17   19       17   \n",
       "20    19    18    15    22    23    18         20        18   23       20   \n",
       "21    12    12    12    12     9    10         11        12   10       13   \n",
       "22    13    12     9    16    15     9         14        14   14       11   \n",
       "\n",
       "    sammenhæng  konklusion  \n",
       "0            7          14  \n",
       "1           10          17  \n",
       "2           16          16  \n",
       "3            8          12  \n",
       "4           15          18  \n",
       "5            7          10  \n",
       "6           14          22  \n",
       "7           14          14  \n",
       "8           14          20  \n",
       "9           15          19  \n",
       "10           8          13  \n",
       "11           7          14  \n",
       "12          10          17  \n",
       "13          16          16  \n",
       "14           8          12  \n",
       "15          15          18  \n",
       "16           7          10  \n",
       "17          14          22  \n",
       "18          14          14  \n",
       "19          14          20  \n",
       "20          15          19  \n",
       "21           8          13  \n",
       "22           7          14  >"
      ]
     },
     "execution_count": 38,
     "metadata": {},
     "output_type": "execute_result"
    }
   ],
   "source": [
    "df.reset_index(drop=True, inplace=True)\n",
    "df.to_numpy"
   ]
  },
  {
   "cell_type": "code",
   "execution_count": 69,
   "metadata": {
    "scrolled": true
   },
   "outputs": [
    {
     "data": {
      "text/plain": [
       "opg1          21\n",
       "opg2          20\n",
       "opg3          13\n",
       "opg4           6\n",
       "opg5          23\n",
       "opg6          14\n",
       "tankegang     15\n",
       "fagsprog      16\n",
       "cas           18\n",
       "diagram       16\n",
       "sammenhæng    16\n",
       "konklusion    16\n",
       "Name: Jørgen Trængstrup, dtype: int64"
      ]
     },
     "execution_count": 69,
     "metadata": {},
     "output_type": "execute_result"
    }
   ],
   "source": [
    "df_labelled.loc['Jørgen Trængstrup']"
   ]
  },
  {
   "cell_type": "code",
   "execution_count": 128,
   "metadata": {},
   "outputs": [
    {
     "data": {
      "text/plain": [
       "<Klasse: 1test (2020), Prøvens Gymnasium>"
      ]
     },
     "execution_count": 128,
     "metadata": {},
     "output_type": "execute_result"
    }
   ],
   "source": [
    "from boxplot.models import Elev, Klasse, AssesmentScore, Aflevering\n",
    "Klasse.objects.get(navn='1test')"
   ]
  },
  {
   "cell_type": "markdown",
   "metadata": {},
   "source": [
    "One approach to filter for **both** a school class, `Klasse`,\n",
    "**and** a assignment, `Aflevering`, is to \n",
    "[chain filters](https://docs.djangoproject.com/en/3.1/topics/db/queries/#chaining-filters),\n",
    "another is to derive from a `django.filters` class, like \n",
    "[this SO answer](https://stackoverflow.com/a/57270647/888033)\n",
    "suggests."
   ]
  },
  {
   "cell_type": "code",
   "execution_count": 125,
   "metadata": {},
   "outputs": [
    {
     "data": {
      "text/plain": [
       "(<Klasse: 1test (2020), Prøvens Gymnasium>, 3)"
      ]
     },
     "execution_count": 125,
     "metadata": {},
     "output_type": "execute_result"
    }
   ],
   "source": [
    "selected_class = Klasse.objects.get(navn='1test')\n",
    "(selected_class, selected_class.id)"
   ]
  },
  {
   "cell_type": "markdown",
   "metadata": {},
   "source": [
    "Assignment, `Aflevering` from the selected class **and** with the title related to 'covid'."
   ]
  },
  {
   "cell_type": "code",
   "execution_count": 155,
   "metadata": {},
   "outputs": [
    {
     "data": {
      "text/plain": [
       "<QuerySet [<Aflevering: 'Model af CoVID19', 1test (2020/2) Prøvens Gymnasium, senest: 2020-11-10>]>"
      ]
     },
     "execution_count": 155,
     "metadata": {},
     "output_type": "execute_result"
    }
   ],
   "source": [
    "aflev1 = Aflevering.objects.filter(\n",
    "    titel__icontains = 'covid'\n",
    ")\n",
    "aflev1"
   ]
  },
  {
   "cell_type": "markdown",
   "metadata": {},
   "source": [
    "In the following cell, it looks like no assignments are submitted by students in class `1test`"
   ]
  },
  {
   "cell_type": "code",
   "execution_count": 157,
   "metadata": {},
   "outputs": [
    {
     "name": "stdout",
     "output_type": "stream",
     "text": [
      "<QuerySet [<Aflevering: 'Model af CoVID19', 1test (2020/2) Prøvens Gymnasium, senest: 2020-11-10>]>\n"
     ]
    }
   ],
   "source": [
    "aflev2 = Aflevering.objects.filter(\n",
    "    klasse = selected_class.id\n",
    ")\n",
    "print((aflev2))"
   ]
  },
  {
   "cell_type": "markdown",
   "metadata": {},
   "source": [
    "I therefore inspect the Aflevering model through the Django admin page, <http://localhost:8000/admin> (NB: Development server HTTP, not HTTP**S**). What I saw is shown as screendumps below.\n",
    "\n",
    "![AssessmentScore inconsistent](AssessmentScore_inconsistent.png)\n",
    "![Aflevering inconsistent](Aflevering_inconsistent.png)\n",
    "\n",
    "Correcting this bootstrapped/demo `Aflevering` to be submitted by the class `1test`, \n",
    "the empty QuerySet gets populated as expected."
   ]
  },
  {
   "cell_type": "code",
   "execution_count": 173,
   "metadata": {},
   "outputs": [
    {
     "name": "stdout",
     "output_type": "stream",
     "text": [
      "24\n"
     ]
    }
   ],
   "source": [
    "aflev = Aflevering.objects.filter(\n",
    "    titel__icontains = 'covid'\n",
    ").filter(\n",
    "    klasse = selected_class.id\n",
    ")\n",
    "#print('Antal:', len(aflev))\n",
    "if len(aflev) == 1:\n",
    "    ass = AssesmentScore.objects.filter( aflevering = aflev[0].id )\n",
    "    elev_liste = [elev.id for elev in ass]\n",
    "    roster = Elev.objects.filter( pk__in=elev_liste)\n",
    "else:\n",
    "    print(len(aflev), \"afleveringer lever op til kravet. Det er en fejl\")\n",
    "    exit\n",
    "#print(ass)\n",
    "print(len(ass))"
   ]
  },
  {
   "cell_type": "code",
   "execution_count": 172,
   "metadata": {},
   "outputs": [],
   "source": [
    "selected_class = Klasse.objects.get(navn='1test')\n",
    "selected_assignment = Aflevering.objects.get(titel__icontains='covid')"
   ]
  },
  {
   "cell_type": "markdown",
   "metadata": {},
   "source": [
    "### Concluding the experiment: Function def"
   ]
  },
  {
   "cell_type": "code",
   "execution_count": 5,
   "metadata": {},
   "outputs": [],
   "source": [
    "from boxplot.models import AssesmentScore, Aflevering, Elev, Klasse\n",
    "from matplotlib import pyplot as plt\n",
    "import pandas as pd"
   ]
  },
  {
   "cell_type": "markdown",
   "metadata": {},
   "source": [
    "[Real Python on **understanding Matplotlib**](https://realpython.com/python-matplotlib-guide/)"
   ]
  },
  {
   "cell_type": "code",
   "execution_count": 6,
   "metadata": {
    "scrolled": true
   },
   "outputs": [
    {
     "ename": "NameError",
     "evalue": "name 'klasse_navn' is not defined",
     "output_type": "error",
     "traceback": [
      "\u001b[0;31m---------------------------------------------------------------------------\u001b[0m",
      "\u001b[0;31mNameError\u001b[0m                                 Traceback (most recent call last)",
      "\u001b[0;32m<ipython-input-6-54a9aad4746f>\u001b[0m in \u001b[0;36m<module>\u001b[0;34m\u001b[0m\n\u001b[1;32m     61\u001b[0m \u001b[0;32mimport\u001b[0m \u001b[0mpickle\u001b[0m\u001b[0;34m\u001b[0m\u001b[0;34m\u001b[0m\u001b[0m\n\u001b[1;32m     62\u001b[0m \u001b[0mpickle\u001b[0m\u001b[0;34m.\u001b[0m\u001b[0mdump\u001b[0m\u001b[0;34m(\u001b[0m \u001b[0mplt\u001b[0m\u001b[0;34m.\u001b[0m\u001b[0mgcf\u001b[0m\u001b[0;34m(\u001b[0m\u001b[0;34m)\u001b[0m\u001b[0;34m,\u001b[0m \u001b[0mopen\u001b[0m\u001b[0;34m(\u001b[0m \u001b[0;34m\"current_plot.p\"\u001b[0m\u001b[0;34m,\u001b[0m \u001b[0;34m\"wb\"\u001b[0m \u001b[0;34m)\u001b[0m \u001b[0;34m)\u001b[0m\u001b[0;34m\u001b[0m\u001b[0;34m\u001b[0m\u001b[0m\n\u001b[0;32m---> 63\u001b[0;31m \u001b[0mpickle\u001b[0m\u001b[0;34m.\u001b[0m\u001b[0mdump\u001b[0m\u001b[0;34m(\u001b[0m \u001b[0mdf\u001b[0m\u001b[0;34m,\u001b[0m \u001b[0mopen\u001b[0m\u001b[0;34m(\u001b[0m \u001b[0;34mf\"boxplot_klasse{klasse_navn}.p\"\u001b[0m\u001b[0;34m,\u001b[0m \u001b[0;34m\"wb\"\u001b[0m \u001b[0;34m)\u001b[0m \u001b[0;34m)\u001b[0m\u001b[0;34m\u001b[0m\u001b[0;34m\u001b[0m\u001b[0m\n\u001b[0m\u001b[1;32m     64\u001b[0m \u001b[0mplt\u001b[0m\u001b[0;34m.\u001b[0m\u001b[0mclose\u001b[0m\u001b[0;34m(\u001b[0m\u001b[0;34m)\u001b[0m\u001b[0;34m\u001b[0m\u001b[0;34m\u001b[0m\u001b[0m\n",
      "\u001b[0;31mNameError\u001b[0m: name 'klasse_navn' is not defined"
     ]
    },
    {
     "data": {
      "image/png": "[encoded data removed]",
      "text/plain": [
       "<Figure size 432x288 with 1 Axes>"
      ]
     },
     "metadata": {
      "needs_background": "light"
     },
     "output_type": "display_data"
    }
   ],
   "source": [
    "#%%timeit\n",
    "#%matplotlib inline\n",
    "def box_backdrop(klasse_navn, aflevering):\n",
    "    \"\"\"\n",
    "    Creates a pyplot figure of 12 box-and-whiskers plots \n",
    "    with the Klasse >< Aflevering relation AssesmentScore.\n",
    "    \n",
    "    Performance: Django model data gathered, boxplot compiled in half a second.\n",
    "    %%timeit gives: \n",
    "    449 ms ± 26.2 ms per loop (mean ± std. dev. of 7 runs, 1 loop each)\n",
    "    \n",
    "    Earlier profilings:\n",
    "    779 ms ± 70.5 ms per loop (mean ± std. dev. of 7 runs, 3 loops each)\n",
    "    - Consider cache\n",
    "    And: 239 ms ± 3.83 ms per loop (mean ± std. dev. of 7 runs, 3 loops each)\n",
    "         Compiler time: 0.22 s\n",
    "    \n",
    "    Parameters\n",
    "    klasse_navn\n",
    "    aflevering (TODO: Implement filtering for submitted Assignment)\n",
    "    \n",
    "    Returns the pandas DataFrame of individual students used \n",
    "    (Model field fulde_navn as index).\n",
    "    This DF can be used to overlay the generated plot with a point plot\n",
    "    of each individual student.\n",
    "    Suggestion: Store/cache \"backdrop\" plot and DF after first function call.\n",
    "    Retrieve each time a feedback overlay of individual Student's performance\n",
    "    needs to be plotted.\n",
    "    \"\"\"\n",
    "    roster = Elev.objects.filter( klasse = Klasse.objects.get(navn=klasse_navn))\n",
    "    # Add filter for `Aflevering`\n",
    "    scores = AssesmentScore.objects.filter(elev__in=roster)\n",
    "    klasse = Klasse.objects.get( navn = klasse_navn )\n",
    "    elev_data = Elev.objects.filter( klasse = klasse.id )\n",
    "    klasse_comprehension = [e.fulde_navn for e in elev_data]\n",
    "    col_name_list = [f'opg{i}' for i in range(1,7)]\n",
    "    col_name_list += [field.name for field in AssesmentScore._meta.fields][-6:]\n",
    "    df_labelled = pd.DataFrame(\n",
    "        data=scores.values(),\n",
    "        columns=col_name_list,\n",
    "        index=[s.elev.fulde_navn for s in scores]\n",
    "    )\n",
    "    # Conversion avoids TypeError: cannot perform reduce with flexible type\n",
    "    klasse_data = df_labelled.to_numpy()\n",
    "    # type(df.to_numpy > method > TypeError. Corrected by adding '()'\n",
    "    boxplot = plt.figure()\n",
    "    boxplot = plt.boxplot(klasse_data)\n",
    "    boxplot = plt.axes\n",
    "    boxplot = plt.ylabel('Score')\n",
    "    boxplot = plt.xlabel('Kriterium')\n",
    "    boxplot = plt.boxplot(klasse_data)\n",
    "    #print(df_labelled.columns.values)\n",
    "    boxplot = plt.xticks(\n",
    "        range(1,1+df_labelled.shape[1]),\n",
    "        df_labelled.columns.values,\n",
    "        rotation='vertical'\n",
    "    )\n",
    "    boxplot = plt.yticks([6*i for i in range(1,5)])\n",
    "    return df_labelled\n",
    "df = box_backdrop('1test','covid')\n",
    "import pickle\n",
    "pickle.dump( plt.gcf(), open( \"current_plot.p\", \"wb\" ) )\n",
    "pickle.dump( df, open( f\"boxplot_klasse{klasse_navn}.p\", \"wb\" ) )\n",
    "plt.close()"
   ]
  },
  {
   "cell_type": "markdown",
   "metadata": {},
   "source": [
    "[Wiki: Using Pickle](https://wiki.python.org/moin/UsingPickle)"
   ]
  },
  {
   "cell_type": "markdown",
   "metadata": {},
   "source": [
    "## Overlay with arbitraty, individual student data (dot plot)."
   ]
  },
  {
   "cell_type": "code",
   "execution_count": 8,
   "metadata": {
    "scrolled": true
   },
   "outputs": [
    {
     "data": {
      "image/png": "[encoded data removed]",
      "text/plain": [
       "<Figure size 432x288 with 1 Axes>"
      ]
     },
     "metadata": {
      "needs_background": "light"
     },
     "output_type": "display_data"
    }
   ],
   "source": [
    "#%%timeit\n",
    "### Function call time:\n",
    "### 738 ms ± 11.6 ms per loop (mean ± std. dev. of 7 runs, 1 loop each)\n",
    "### 831 ms ± 84.3 ms per loop (mean ± std. dev. of 7 runs, 1 loop each)\n",
    "klasse_navn='1test'\n",
    "#klasse_scores = box_backdrop(klasse_navn=klasse_navn)\n",
    "\n",
    "### Pickle time:\n",
    "### 487 ms ± 13.3 ms per loop (mean ± std. dev. of 7 runs, 1 loop each)\n",
    "### 476 ms ± 10.4 ms per loop (mean ± std. dev. of 7 runs, 1 loop each)\n",
    "with open( f\"current_plot.p\", \"rb\" ) as c:\n",
    "    pickle.load( c )\n",
    "\n",
    "with open( f\"boxplot_klasse{klasse_navn}.p\", \"rb\" ) as k:\n",
    "    klasse_scores = pickle.load( k )\n",
    "\n",
    "#elev_navn='Ida Himmark Mark'\n",
    "#elev_navn='Emma Oue'\n",
    "elev_navn='Helle Byskov'\n",
    "\n",
    "plt.title(elev_navn+', '+klasse_navn)\n",
    "\n",
    "### The row for this student\n",
    "elev_score = klasse_scores.loc[elev_navn].to_numpy()\n",
    "### Plot circled dots, 'o' in color RED, 'r'\n",
    "plt.plot(range(1,1+klasse_scores.shape[1]), elev_score, 'or')\n",
    "\n",
    "plt.show()"
   ]
  }
 ],
 "metadata": {
  "kernelspec": {
   "display_name": "Python 3",
   "language": "python",
   "name": "python3"
  },
  "language_info": {
   "codemirror_mode": {
    "name": "ipython",
    "version": 3
   },
   "file_extension": ".py",
   "mimetype": "text/x-python",
   "name": "python",
   "nbconvert_exporter": "python",
   "pygments_lexer": "ipython3",
   "version": "3.8.5"
  }
 },
 "nbformat": 4,
 "nbformat_minor": 4
}
