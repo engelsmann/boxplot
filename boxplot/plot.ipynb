{
 "cells": [
  {
   "cell_type": "markdown",
   "metadata": {},
   "source": [
    "# Boxplot on AssessmentScore data, overlay w dots\n",
    "In this notebook, I experiment my way into\n",
    "\n",
    "1. [Set up](https://www.codingforentrepreneurs.com/blog/use-django-in-jupyter)\n",
    "   Jupyter for Django:\n",
    "   - I copied in the file `django_for_jupyter.py` in project root directory.\n",
    "   - Same location, now issue `DJANGO_PROJECT=\"box_whiskers_demo\" jupyter lab`.\n",
    "   - This will start Jupyter lab **in browser** - and thus \n",
    "     access to **this Notebook** with Django project access.\n",
    "     Does logic seem backward? Sorry!\n",
    "1. **Retrieve data** from model `AssessmentScore`:\n",
    "1. Preprocess (if necessary) in order to **prepare for 12-box-plot**.\n",
    "1. Plot and label\n",
    "1. **Overlay** with arbitraty, individual student data (**dot** plot)."
   ]
  },
  {
   "cell_type": "code",
   "execution_count": 1,
   "metadata": {},
   "outputs": [],
   "source": [
    "from django_for_jupyter import init_django\n",
    "init_django()"
   ]
  },
  {
   "cell_type": "code",
   "execution_count": 2,
   "metadata": {},
   "outputs": [
    {
     "data": {
      "text/plain": [
       "<QuerySet [<Elev: Andersine Andersen, 1a (2019), Frederiksborg Gymnasium og HF>, <Elev: Sida Dida, 2p (2018), Frederiksborg Gymnasium og HF>, <Elev: Camilla Horserød, 1test (2020), Prøvens Gymnasium>, <Elev: Camilla Vejlebyskov, 1test (2020), Prøvens Gymnasium>, <Elev: Emma Oue, 1test (2020), Prøvens Gymnasium>, <Elev: Helle Barup, 1test (2020), Prøvens Gymnasium>, <Elev: Helle Byskov, 1test (2020), Prøvens Gymnasium>, <Elev: Henrik Menstrup, 1test (2020), Prøvens Gymnasium>, <Elev: Henrik Voer Hede, 1test (2020), Prøvens Gymnasium>, <Elev: Ida Himmark Mark, 1test (2020), Prøvens Gymnasium>, <Elev: Jens Febbersted, 1test (2020), Prøvens Gymnasium>, <Elev: Jens Molshuse, 1test (2020), Prøvens Gymnasium>, <Elev: Jørgen Hallenslev Gårde, 1test (2020), Prøvens Gymnasium>, <Elev: Jørgen Normark, 1test (2020), Prøvens Gymnasium>, <Elev: Jørgen Storå, 1test (2020), Prøvens Gymnasium>, <Elev: Jørgen Trængstrup, 1test (2020), Prøvens Gymnasium>, <Elev: Kirsten Dybdal, 1test (2020), Prøvens Gymnasium>, <Elev: Kirsten Hjortegårde, 1test (2020), Prøvens Gymnasium>, <Elev: Maria Skibsted Å, 1test (2020), Prøvens Gymnasium>, <Elev: Mette Blushøj, 1test (2020), Prøvens Gymnasium>, '...(remaining elements truncated)...']>"
      ]
     },
     "execution_count": 2,
     "metadata": {},
     "output_type": "execute_result"
    }
   ],
   "source": [
    "from boxplot.models import Elev\n",
    "\n",
    "Elev.objects.all()"
   ]
  }
 ],
 "metadata": {
  "kernelspec": {
   "display_name": "Python 3",
   "language": "python",
   "name": "python3"
  },
  "language_info": {
   "codemirror_mode": {
    "name": "ipython",
    "version": 3
   },
   "file_extension": ".py",
   "mimetype": "text/x-python",
   "name": "python",
   "nbconvert_exporter": "python",
   "pygments_lexer": "ipython3",
   "version": "3.8.5"
  }
 },
 "nbformat": 4,
 "nbformat_minor": 4
}
